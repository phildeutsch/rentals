{
 "cells": [
  {
   "cell_type": "code",
   "execution_count": 1,
   "metadata": {},
   "outputs": [
    {
     "name": "stdout",
     "output_type": "stream",
     "text": [
      "[nltk_data] Downloading package stopwords to\n",
      "[nltk_data]     C:\\Users\\philipp.deutsch\\AppData\\Roaming\\nltk_data...\n",
      "[nltk_data]   Package stopwords is already up-to-date!\n",
      "[nltk_data] Downloading package stopwords to\n",
      "[nltk_data]     C:\\Users\\philipp.deutsch\\AppData\\Roaming\\nltk_data...\n",
      "[nltk_data]   Package stopwords is already up-to-date!\n"
     ]
    }
   ],
   "source": [
    "import pickle\n",
    "\n",
    "import datetime\n",
    "import pandas as pd\n",
    "import numpy as np\n",
    "import seaborn as sns\n",
    "import matplotlib.pyplot as plt\n",
    "\n",
    "from sklearn.ensemble import RandomForestClassifier\n",
    "from sklearn.metrics import log_loss\n",
    "\n",
    "import rental_utils; reload(rental_utils)\n",
    "\n",
    "%matplotlib inline\n",
    "sns.set(style=\"whitegrid\")"
   ]
  },
  {
   "cell_type": "code",
   "execution_count": 2,
   "metadata": {},
   "outputs": [
    {
     "name": "stdout",
     "output_type": "stream",
     "text": [
      "                high    medium       low\n",
      "listing_id                              \n",
      "6811958     0.620833  0.192500  0.186667\n",
      "6811960     0.095000  0.425000  0.480000\n",
      "6811964     0.060000  0.520000  0.420000\n",
      "6811971     0.076000  0.193333  0.730667\n",
      "6811974     0.130000  0.314286  0.555714\n",
      "                high  medium       low\n",
      "listing_id                            \n",
      "6811958     0.288000   0.354  0.358000\n",
      "6811960     0.154000   0.320  0.526000\n",
      "6811964     0.287333   0.297  0.415667\n",
      "6811971     0.092000   0.363  0.545000\n",
      "6811974     0.116000   0.380  0.504000\n"
     ]
    }
   ],
   "source": [
    "s1 = pd.read_csv('Submissions/submission_desc__2017-04-06_1457.csv')\n",
    "s2 = pd.read_csv('Submissions/submission_2017-04-06_1457.csv')\n",
    "\n",
    "s1.sort_values('listing_id', inplace=True)\n",
    "s2.sort_values('listing_id', inplace=True)\n",
    "\n",
    "s1.set_index('listing_id', inplace=True)\n",
    "s2.set_index('listing_id', inplace=True)\n",
    "\n",
    "print(s1.head())\n",
    "print(s2.head())"
   ]
  },
  {
   "cell_type": "code",
   "execution_count": 3,
   "metadata": {},
   "outputs": [
    {
     "data": {
      "text/html": [
       "<div>\n",
       "<table border=\"1\" class=\"dataframe\">\n",
       "  <thead>\n",
       "    <tr style=\"text-align: right;\">\n",
       "      <th></th>\n",
       "      <th>high</th>\n",
       "      <th>medium</th>\n",
       "      <th>low</th>\n",
       "    </tr>\n",
       "    <tr>\n",
       "      <th>listing_id</th>\n",
       "      <th></th>\n",
       "      <th></th>\n",
       "      <th></th>\n",
       "    </tr>\n",
       "  </thead>\n",
       "  <tbody>\n",
       "    <tr>\n",
       "      <th>6811958</th>\n",
       "      <td>0.454417</td>\n",
       "      <td>0.273250</td>\n",
       "      <td>0.272333</td>\n",
       "    </tr>\n",
       "    <tr>\n",
       "      <th>6811960</th>\n",
       "      <td>0.124500</td>\n",
       "      <td>0.372500</td>\n",
       "      <td>0.503000</td>\n",
       "    </tr>\n",
       "    <tr>\n",
       "      <th>6811964</th>\n",
       "      <td>0.173667</td>\n",
       "      <td>0.408500</td>\n",
       "      <td>0.417833</td>\n",
       "    </tr>\n",
       "    <tr>\n",
       "      <th>6811971</th>\n",
       "      <td>0.084000</td>\n",
       "      <td>0.278167</td>\n",
       "      <td>0.637833</td>\n",
       "    </tr>\n",
       "    <tr>\n",
       "      <th>6811974</th>\n",
       "      <td>0.123000</td>\n",
       "      <td>0.347143</td>\n",
       "      <td>0.529857</td>\n",
       "    </tr>\n",
       "  </tbody>\n",
       "</table>\n",
       "</div>"
      ],
      "text/plain": [
       "                high    medium       low\n",
       "listing_id                              \n",
       "6811958     0.454417  0.273250  0.272333\n",
       "6811960     0.124500  0.372500  0.503000\n",
       "6811964     0.173667  0.408500  0.417833\n",
       "6811971     0.084000  0.278167  0.637833\n",
       "6811974     0.123000  0.347143  0.529857"
      ]
     },
     "execution_count": 3,
     "metadata": {},
     "output_type": "execute_result"
    }
   ],
   "source": [
    "averaged = pd.concat([s1, s2], axis=1, keys=['s1', 's2'], ignore_index=False)\n",
    "averaged.swaplevel(0, 1, axis=1).sortlevel(axis=1)\n",
    "averaged = averaged.swaplevel(0, 1, axis=1).sortlevel(axis=1)\n",
    "averaged = averaged.groupby(level=0, axis=1).mean()\n",
    "averaged.head()"
   ]
  },
  {
   "cell_type": "code",
   "execution_count": 4,
   "metadata": {
    "collapsed": true
   },
   "outputs": [],
   "source": [
    "timestamp = str(datetime.datetime.now())[:16]\n",
    "submission_name = 'Submissions/submission averaged ' + timestamp + '.csv'\n",
    "submission_name = submission_name.replace(' ', '_').replace(':', '')\n",
    "averaged.to_csv(submission_name, index=True)"
   ]
  }
 ],
 "metadata": {
  "kernelspec": {
   "display_name": "Python 2",
   "language": "python",
   "name": "python2"
  },
  "language_info": {
   "codemirror_mode": {
    "name": "ipython",
    "version": 2
   },
   "file_extension": ".py",
   "mimetype": "text/x-python",
   "name": "python",
   "nbconvert_exporter": "python",
   "pygments_lexer": "ipython2",
   "version": "2.7.13"
  }
 },
 "nbformat": 4,
 "nbformat_minor": 2
}
