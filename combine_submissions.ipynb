{
 "cells": [
  {
   "cell_type": "code",
   "execution_count": 26,
   "metadata": {},
   "outputs": [
    {
     "name": "stdout",
     "output_type": "stream",
     "text": [
      "[nltk_data] Downloading package stopwords to\n",
      "[nltk_data]     C:\\Users\\philipp.deutsch\\AppData\\Roaming\\nltk_data...\n",
      "[nltk_data]   Package stopwords is already up-to-date!\n"
     ]
    }
   ],
   "source": [
    "import pickle\n",
    "\n",
    "import datetime\n",
    "import pandas as pd\n",
    "import numpy as np\n",
    "import seaborn as sns\n",
    "import matplotlib.pyplot as plt\n",
    "\n",
    "from sklearn.ensemble import RandomForestClassifier\n",
    "from sklearn.metrics import log_loss\n",
    "\n",
    "import rental_utils; reload(rental_utils)\n",
    "\n",
    "%matplotlib inline\n",
    "sns.set(style=\"whitegrid\")"
   ]
  },
  {
   "cell_type": "code",
   "execution_count": 6,
   "metadata": {},
   "outputs": [],
   "source": [
    "s1 = pd.read_csv('Submissions/submission_desc__2017-04-06_1457.csv')\n",
    "s2 = pd.read_csv('Submissions/submission_2017-04-06_1457.csv')"
   ]
  },
  {
   "cell_type": "code",
   "execution_count": 25,
   "metadata": {},
   "outputs": [
    {
     "data": {
      "text/html": [
       "<div>\n",
       "<table border=\"1\" class=\"dataframe\">\n",
       "  <thead>\n",
       "    <tr style=\"text-align: right;\">\n",
       "      <th></th>\n",
       "      <th>listing_id</th>\n",
       "      <th>high</th>\n",
       "      <th>medium</th>\n",
       "      <th>low</th>\n",
       "    </tr>\n",
       "  </thead>\n",
       "  <tbody>\n",
       "    <tr>\n",
       "      <th>0</th>\n",
       "      <td>7142618</td>\n",
       "      <td>0.038167</td>\n",
       "      <td>0.437833</td>\n",
       "      <td>0.524000</td>\n",
       "    </tr>\n",
       "    <tr>\n",
       "      <th>1</th>\n",
       "      <td>7210040</td>\n",
       "      <td>0.051750</td>\n",
       "      <td>0.117250</td>\n",
       "      <td>0.831000</td>\n",
       "    </tr>\n",
       "    <tr>\n",
       "      <th>2</th>\n",
       "      <td>7139228</td>\n",
       "      <td>0.029167</td>\n",
       "      <td>0.385667</td>\n",
       "      <td>0.585167</td>\n",
       "    </tr>\n",
       "    <tr>\n",
       "      <th>3</th>\n",
       "      <td>7167416</td>\n",
       "      <td>0.162125</td>\n",
       "      <td>0.385750</td>\n",
       "      <td>0.452125</td>\n",
       "    </tr>\n",
       "    <tr>\n",
       "      <th>4</th>\n",
       "      <td>7016148</td>\n",
       "      <td>0.025333</td>\n",
       "      <td>0.109500</td>\n",
       "      <td>0.865167</td>\n",
       "    </tr>\n",
       "  </tbody>\n",
       "</table>\n",
       "</div>"
      ],
      "text/plain": [
       "   listing_id      high    medium       low\n",
       "0     7142618  0.038167  0.437833  0.524000\n",
       "1     7210040  0.051750  0.117250  0.831000\n",
       "2     7139228  0.029167  0.385667  0.585167\n",
       "3     7167416  0.162125  0.385750  0.452125\n",
       "4     7016148  0.025333  0.109500  0.865167"
      ]
     },
     "execution_count": 25,
     "metadata": {},
     "output_type": "execute_result"
    }
   ],
   "source": [
    "averaged = pd.concat([s1, s2], axis=1, keys=['s1', 's2'])\n",
    "averaged.swaplevel(0, 1, axis=1).sortlevel(axis=1)\n",
    "averaged = averaged.swaplevel(0, 1, axis=1).sortlevel(axis=1)\n",
    "averaged = averaged.groupby(level=0, axis=1).mean()\n",
    "averaged['listing_id'] = glued['listing_id'].apply(lambda x: int(x))\n",
    "averaged.head()"
   ]
  },
  {
   "cell_type": "code",
   "execution_count": 27,
   "metadata": {
    "collapsed": true
   },
   "outputs": [],
   "source": [
    "timestamp = str(datetime.datetime.now())[:16]\n",
    "submission_name = 'Submissions/submission averaged ' + timestamp + '.csv'\n",
    "submission_name = submission_name.replace(' ', '_').replace(':', '')\n",
    "averaged.to_csv(submission_name, index=False)"
   ]
  }
 ],
 "metadata": {
  "kernelspec": {
   "display_name": "Python 2",
   "language": "python",
   "name": "python2"
  },
  "language_info": {
   "codemirror_mode": {
    "name": "ipython",
    "version": 2
   },
   "file_extension": ".py",
   "mimetype": "text/x-python",
   "name": "python",
   "nbconvert_exporter": "python",
   "pygments_lexer": "ipython2",
   "version": "2.7.13"
  }
 },
 "nbformat": 4,
 "nbformat_minor": 2
}
