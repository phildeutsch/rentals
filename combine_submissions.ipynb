{
 "cells": [
  {
   "cell_type": "code",
   "execution_count": 1,
   "metadata": {},
   "outputs": [
    {
     "name": "stdout",
     "output_type": "stream",
     "text": [
      "[nltk_data] Downloading package stopwords to\n",
      "[nltk_data]     C:\\Users\\philipp.deutsch\\AppData\\Roaming\\nltk_data...\n",
      "[nltk_data]   Package stopwords is already up-to-date!\n",
      "[nltk_data] Downloading package stopwords to\n",
      "[nltk_data]     C:\\Users\\philipp.deutsch\\AppData\\Roaming\\nltk_data...\n",
      "[nltk_data]   Package stopwords is already up-to-date!\n"
     ]
    }
   ],
   "source": [
    "import pickle\n",
    "\n",
    "import datetime\n",
    "import pandas as pd\n",
    "import numpy as np\n",
    "import seaborn as sns\n",
    "import matplotlib.pyplot as plt\n",
    "\n",
    "from sklearn.ensemble import RandomForestClassifier\n",
    "from sklearn.metrics import log_loss\n",
    "\n",
    "import rental_utils; reload(rental_utils)\n",
    "\n",
    "%matplotlib inline\n",
    "sns.set(style=\"whitegrid\")"
   ]
  },
  {
   "cell_type": "code",
   "execution_count": 5,
   "metadata": {},
   "outputs": [
    {
     "name": "stdout",
     "output_type": "stream",
     "text": [
      "                high    medium       low\n",
      "listing_id                              \n",
      "6811958     0.720338  0.125745  0.153917\n",
      "6811960     0.121862  0.357183  0.520955\n",
      "6811964     0.032000  0.562783  0.405217\n",
      "6811971     0.102311  0.253202  0.644487\n",
      "6811974     0.122496  0.284343  0.593162\n",
      "                high    medium       low\n",
      "listing_id                              \n",
      "6811958     0.309600  0.359467  0.330933\n",
      "6811960     0.155467  0.306250  0.538283\n",
      "6811964     0.287200  0.322800  0.390000\n",
      "6811971     0.095400  0.358400  0.546200\n",
      "6811974     0.106400  0.407403  0.486197\n"
     ]
    }
   ],
   "source": [
    "s1 = pd.read_csv('Submissions/submission_desc__2017-04-06_1557.csv')\n",
    "s2 = pd.read_csv('Submissions/submission_2017-04-06_1604.csv')\n",
    "\n",
    "s1.sort_values('listing_id', inplace=True)\n",
    "s2.sort_values('listing_id', inplace=True)\n",
    "\n",
    "s1.set_index('listing_id', inplace=True)\n",
    "s2.set_index('listing_id', inplace=True)\n",
    "\n",
    "print(s1.head())\n",
    "print(s2.head())"
   ]
  },
  {
   "cell_type": "code",
   "execution_count": 6,
   "metadata": {},
   "outputs": [
    {
     "data": {
      "text/html": [
       "<div>\n",
       "<table border=\"1\" class=\"dataframe\">\n",
       "  <thead>\n",
       "    <tr style=\"text-align: right;\">\n",
       "      <th></th>\n",
       "      <th>high</th>\n",
       "      <th>medium</th>\n",
       "      <th>low</th>\n",
       "    </tr>\n",
       "    <tr>\n",
       "      <th>listing_id</th>\n",
       "      <th></th>\n",
       "      <th></th>\n",
       "      <th></th>\n",
       "    </tr>\n",
       "  </thead>\n",
       "  <tbody>\n",
       "    <tr>\n",
       "      <th>6811958</th>\n",
       "      <td>0.514969</td>\n",
       "      <td>0.242606</td>\n",
       "      <td>0.242425</td>\n",
       "    </tr>\n",
       "    <tr>\n",
       "      <th>6811960</th>\n",
       "      <td>0.138664</td>\n",
       "      <td>0.331717</td>\n",
       "      <td>0.529619</td>\n",
       "    </tr>\n",
       "    <tr>\n",
       "      <th>6811964</th>\n",
       "      <td>0.159600</td>\n",
       "      <td>0.442792</td>\n",
       "      <td>0.397608</td>\n",
       "    </tr>\n",
       "    <tr>\n",
       "      <th>6811971</th>\n",
       "      <td>0.098855</td>\n",
       "      <td>0.305801</td>\n",
       "      <td>0.595344</td>\n",
       "    </tr>\n",
       "    <tr>\n",
       "      <th>6811974</th>\n",
       "      <td>0.114448</td>\n",
       "      <td>0.345873</td>\n",
       "      <td>0.539679</td>\n",
       "    </tr>\n",
       "  </tbody>\n",
       "</table>\n",
       "</div>"
      ],
      "text/plain": [
       "                high    medium       low\n",
       "listing_id                              \n",
       "6811958     0.514969  0.242606  0.242425\n",
       "6811960     0.138664  0.331717  0.529619\n",
       "6811964     0.159600  0.442792  0.397608\n",
       "6811971     0.098855  0.305801  0.595344\n",
       "6811974     0.114448  0.345873  0.539679"
      ]
     },
     "execution_count": 6,
     "metadata": {},
     "output_type": "execute_result"
    }
   ],
   "source": [
    "averaged = pd.concat([s1, s2], axis=1, keys=['s1', 's2'], ignore_index=False)\n",
    "averaged.swaplevel(0, 1, axis=1).sortlevel(axis=1)\n",
    "averaged = averaged.swaplevel(0, 1, axis=1).sortlevel(axis=1)\n",
    "averaged = averaged.groupby(level=0, axis=1).mean()\n",
    "averaged.head()"
   ]
  },
  {
   "cell_type": "code",
   "execution_count": 7,
   "metadata": {
    "collapsed": true
   },
   "outputs": [],
   "source": [
    "timestamp = str(datetime.datetime.now())[:16]\n",
    "submission_name = 'Submissions/submission averaged ' + timestamp + '.csv'\n",
    "submission_name = submission_name.replace(' ', '_').replace(':', '')\n",
    "averaged.to_csv(submission_name, index=True)"
   ]
  },
  {
   "cell_type": "code",
   "execution_count": null,
   "metadata": {
    "collapsed": true
   },
   "outputs": [],
   "source": []
  }
 ],
 "metadata": {
  "kernelspec": {
   "display_name": "Python 2",
   "language": "python",
   "name": "python2"
  },
  "language_info": {
   "codemirror_mode": {
    "name": "ipython",
    "version": 2
   },
   "file_extension": ".py",
   "mimetype": "text/x-python",
   "name": "python",
   "nbconvert_exporter": "python",
   "pygments_lexer": "ipython2",
   "version": "2.7.13"
  }
 },
 "nbformat": 4,
 "nbformat_minor": 2
}
