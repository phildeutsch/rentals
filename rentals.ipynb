{
 "cells": [
  {
   "cell_type": "code",
   "execution_count": 1,
   "metadata": {
    "collapsed": false,
    "deletable": true,
    "editable": true
   },
   "outputs": [
    {
     "data": {
      "text/plain": [
       "<module 'rental_utils' from 'rental_utils.pyc'>"
      ]
     },
     "execution_count": 1,
     "metadata": {},
     "output_type": "execute_result"
    }
   ],
   "source": [
    "import json\n",
    "\n",
    "import pickle\n",
    "import datetime\n",
    "import pandas as pd\n",
    "import numpy as np\n",
    "import matplotlib.pyplot as plt\n",
    "import seaborn as sns\n",
    "\n",
    "from sklearn.ensemble import RandomForestClassifier, ExtraTreesClassifier\n",
    "from sklearn.ensemble import GradientBoostingClassifier\n",
    "from sklearn.metrics import log_loss\n",
    "from sklearn.model_selection import train_test_split\n",
    "\n",
    "%matplotlib inline\n",
    "sns.set(style=\"whitegrid\")\n",
    "\n",
    "import rental_utils; reload(rental_utils)"
   ]
  },
  {
   "cell_type": "code",
   "execution_count": 2,
   "metadata": {
    "collapsed": true,
    "deletable": true,
    "editable": true
   },
   "outputs": [],
   "source": [
    "train_raw = rental_utils.clean(pd.read_json('Data/train.json'))\n",
    "test_raw = rental_utils.clean(pd.read_json('Data/test.json'))"
   ]
  },
  {
   "cell_type": "code",
   "execution_count": 3,
   "metadata": {
    "collapsed": false,
    "deletable": true,
    "editable": true
   },
   "outputs": [],
   "source": [
    "[features, feature_names] = rental_utils.get_features(25, train_raw)\n",
    "\n",
    "train = rental_utils.add_features(train_raw, features, feature_names)\n",
    "test = rental_utils.add_features(test_raw, features, feature_names)\n",
    "\n",
    "train = rental_utils.add_region(train)\n",
    "test = rental_utils.add_region(test)\n",
    "\n",
    "train = rental_utils.add_variables(train, train)\n",
    "test = rental_utils.add_variables(test, train)"
   ]
  },
  {
   "cell_type": "code",
   "execution_count": 4,
   "metadata": {
    "collapsed": false,
    "deletable": true,
    "editable": true
   },
   "outputs": [],
   "source": [
    "dv_county = rental_utils.vectorizer('County', train)\n",
    "train = rental_utils.one_hot_encode(dv_county, train, 'County')\n",
    "test = rental_utils.one_hot_encode(dv_county, test, 'County')\n",
    "\n",
    "dv_name = rental_utils.vectorizer('Name', train)\n",
    "train = rental_utils.one_hot_encode(dv_name, train, 'Name')\n",
    "test = rental_utils.one_hot_encode(dv_name, test, 'Name')\n",
    "\n",
    "dv_region = rental_utils.vectorizer('RegionID', train)\n",
    "train = rental_utils.one_hot_encode(dv_region, train, 'RegionID')\n",
    "test = rental_utils.one_hot_encode(dv_region, test, 'RegionID')"
   ]
  },
  {
   "cell_type": "code",
   "execution_count": 5,
   "metadata": {
    "collapsed": false,
    "deletable": true,
    "editable": true
   },
   "outputs": [],
   "source": [
    "independent = (['bathrooms', 'bedrooms', 'rooms', 'price', 'price_per_room'] + feature_names + \n",
    "    ['description_length', 'n_features', 'n_photos'] +\n",
    "    ['created_year', 'created_month', 'created_weekday', 'created_hour'] +\n",
    "    [x for x in train.columns.values if 'County' in x] +\n",
    "    [x for x in train.columns.values if 'Name' in x] +\n",
    "    [x for x in train.columns.values if 'Region' in x]\n",
    "    )\n",
    "X_train, X_val, y_train, y_val = train_test_split(train[independent], train['interest_level'], test_size=0.33)"
   ]
  },
  {
   "cell_type": "code",
   "execution_count": 6,
   "metadata": {
    "collapsed": false,
    "deletable": true,
    "editable": true
   },
   "outputs": [],
   "source": [
    "model = pickle.load(open(\"Models/best_xgb.pkl\", \"rb\"))"
   ]
  },
  {
   "cell_type": "code",
   "execution_count": 13,
   "metadata": {
    "collapsed": false,
    "deletable": true,
    "editable": true
   },
   "outputs": [
    {
     "name": "stdout",
     "output_type": "stream",
     "text": [
      "col_0   high    low  medium\n",
      "row_0                      \n",
      "high     455     38      97\n",
      "low      389  10747    2056\n",
      "medium   448    564    1493\n",
      "\n",
      "col_0       high       low    medium\n",
      "row_0                               \n",
      "high    0.771186  0.064407  0.164407\n",
      "low     0.029488  0.814660  0.155852\n",
      "medium  0.178842  0.225150  0.596008\n",
      "\n",
      "Validation Accuracy: 77.9\n",
      "Log loss:            0.522\n",
      "\n",
      "High Accuracy: 77.1\n",
      "Medium Accuracy: 59.6\n",
      "Low Accuracy: 81.5\n"
     ]
    }
   ],
   "source": [
    "preds_train, probs_train = rental_utils.predict(model, X_train)\n",
    "preds, probs = rental_utils.predict(model, X_val)\n",
    "\n",
    "ct = pd.crosstab(preds, y_val.values, margins=False)\n",
    "print(ct)\n",
    "\n",
    "print('')\n",
    "ct_perc = ct.apply(lambda x: x/sum(x), axis=1)\n",
    "print(ct_perc)\n",
    "\n",
    "print('')\n",
    "accuracy_val = float(np.sum(preds==y_val))/len(preds)\n",
    "print('Validation Accuracy: ' + str(round(100*accuracy_val, 1)))\n",
    "print('Log loss:            ' + str(round(log_loss(y_val, probs), 3)))\n",
    "\n",
    "print('')\n",
    "high_accuracy = ct_perc.iloc[0,0]\n",
    "print('High Accuracy: ' + str(round(100*high_accuracy, 1)))\n",
    "med_accuracy = ct_perc.iloc[2,2]\n",
    "print('Medium Accuracy: ' + str(round(100*med_accuracy, 1)))\n",
    "low_accuracy = ct_perc.iloc[1,1]\n",
    "print('Low Accuracy: ' + str(round(100*low_accuracy, 1)))\n"
   ]
  },
  {
   "cell_type": "code",
   "execution_count": 14,
   "metadata": {
    "collapsed": false
   },
   "outputs": [
    {
     "data": {
      "text/plain": [
       "<matplotlib.axes._subplots.AxesSubplot at 0x41804208>"
      ]
     },
     "execution_count": 14,
     "metadata": {},
     "output_type": "execute_result"
    },
    {
     "data": {
      "image/png": "[encoded data removed]",
      "text/plain": [
       "<matplotlib.figure.Figure at 0x3f5755f8>"
      ]
     },
     "metadata": {},
     "output_type": "display_data"
    }
   ],
   "source": [
    "importance = pd.DataFrame({'variable':independent, 'importance':model.feature_importances_})\n",
    "importance.sort_values(by='importance', ascending=False, inplace=True)\n",
    "top_importance = importance.head(20)\n",
    "\n",
    "sns.barplot(y='variable', x='importance', color=\"midnightblue\", data=top_importance)"
   ]
  },
  {
   "cell_type": "code",
   "execution_count": 15,
   "metadata": {
    "collapsed": false,
    "deletable": true,
    "editable": true
   },
   "outputs": [
    {
     "name": "stdout",
     "output_type": "stream",
     "text": [
      "   listing_id      high    medium       low\n",
      "0     7142618  0.101748  0.405453  0.492799\n",
      "1     7210040  0.287790  0.487831  0.224380\n",
      "2     7174566  0.004258  0.053741  0.942001\n",
      "3     7191391  0.389549  0.361264  0.249186\n",
      "4     7171695  0.006161  0.127819  0.866020\n"
     ]
    }
   ],
   "source": [
    "submission = test[['listing_id']]\n",
    "prreds, probs = rental_utils.predict(model, test[independent])\n",
    "submission = pd.concat([submission.reset_index(drop=True), pd.DataFrame(probs, columns=model.classes_)], axis=1)\n",
    "submission = submission[['listing_id', 'high', 'medium', 'low']]\n",
    "\n",
    "print(submission.head())\n",
    "\n",
    "timestamp = str(datetime.datetime.now())[:16]\n",
    "submission_name = 'Submissions/submission ' + timestamp + '.csv'\n",
    "submission_name = submission_name.replace(' ', '_').replace(':','')\n",
    "submission.to_csv(submission_name, index=False)"
   ]
  },
  {
   "cell_type": "code",
   "execution_count": null,
   "metadata": {
    "collapsed": true
   },
   "outputs": [],
   "source": []
  }
 ],
 "metadata": {
  "kernelspec": {
   "display_name": "Python 2",
   "language": "python",
   "name": "python2"
  },
  "language_info": {
   "codemirror_mode": {
    "name": "ipython",
    "version": 2
   },
   "file_extension": ".py",
   "mimetype": "text/x-python",
   "name": "python",
   "nbconvert_exporter": "python",
   "pygments_lexer": "ipython2",
   "version": "2.7.13"
  }
 },
 "nbformat": 4,
 "nbformat_minor": 2
}
