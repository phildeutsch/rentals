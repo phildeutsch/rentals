{
 "cells": [
  {
   "cell_type": "code",
   "execution_count": 1,
   "metadata": {
    "collapsed": false,
    "deletable": true,
    "editable": true
   },
   "outputs": [
    {
     "data": {
      "text/plain": [
       "<module 'rental_utils' from 'rental_utils.pyc'>"
      ]
     },
     "execution_count": 1,
     "metadata": {},
     "output_type": "execute_result"
    }
   ],
   "source": [
    "import json\n",
    "\n",
    "import pickle\n",
    "import datetime\n",
    "import pandas as pd\n",
    "import numpy as np\n",
    "import matplotlib.pyplot as plt\n",
    "import seaborn as sns\n",
    "\n",
    "from sklearn.ensemble import RandomForestClassifier\n",
    "from sklearn.metrics import log_loss\n",
    "from sklearn.model_selection import train_test_split\n",
    "\n",
    "%matplotlib inline\n",
    "sns.set(style=\"whitegrid\")\n",
    "\n",
    "import rental_utils; reload(rental_utils)"
   ]
  },
  {
   "cell_type": "code",
   "execution_count": 2,
   "metadata": {
    "collapsed": true,
    "deletable": true,
    "editable": true
   },
   "outputs": [],
   "source": [
    "train_raw = rental_utils.clean(pd.read_json('Data/train.json'))\n",
    "test_raw = rental_utils.clean(pd.read_json('Data/test.json'))"
   ]
  },
  {
   "cell_type": "code",
   "execution_count": 3,
   "metadata": {
    "collapsed": false,
    "deletable": true,
    "editable": true
   },
   "outputs": [],
   "source": [
    "[features, feature_names] = rental_utils.get_features(25, train_raw)\n",
    "\n",
    "train = rental_utils.add_features(train_raw, features, feature_names)\n",
    "test = rental_utils.add_features(test_raw, features, feature_names)\n",
    "\n",
    "train = rental_utils.add_region(train)\n",
    "test = rental_utils.add_region(test)\n",
    "\n",
    "train = rental_utils.add_variables(train, train)\n",
    "test = rental_utils.add_variables(test, train)"
   ]
  },
  {
   "cell_type": "code",
   "execution_count": 4,
   "metadata": {
    "collapsed": false,
    "deletable": true,
    "editable": true
   },
   "outputs": [],
   "source": [
    "dv_county = rental_utils.vectorizer('County', train)\n",
    "train = rental_utils.one_hot_encode(dv_county, train, 'County')\n",
    "test = rental_utils.one_hot_encode(dv_county, test, 'County')\n",
    "\n",
    "dv_name = rental_utils.vectorizer('Name', train)\n",
    "train = rental_utils.one_hot_encode(dv_name, train, 'Name')\n",
    "test = rental_utils.one_hot_encode(dv_name, test, 'Name')\n",
    "\n",
    "dv_region = rental_utils.vectorizer('RegionID', train)\n",
    "train = rental_utils.one_hot_encode(dv_region, train, 'RegionID')\n",
    "test = rental_utils.one_hot_encode(dv_region, test, 'RegionID')"
   ]
  },
  {
   "cell_type": "code",
   "execution_count": 5,
   "metadata": {
    "collapsed": false,
    "deletable": true,
    "editable": true
   },
   "outputs": [],
   "source": [
    "independent = (['bathrooms', 'bedrooms', 'rooms', 'price', 'price_per_room'] + feature_names + \n",
    "    ['description_length', 'n_features', 'n_photos'] +\n",
    "    ['created_year', 'created_month', 'created_weekday', 'created_hour'] +\n",
    "    [x for x in train.columns.values if 'County' in x] +\n",
    "    [x for x in train.columns.values if 'Name' in x] +\n",
    "    [x for x in train.columns.values if 'Region' in x]\n",
    "    )\n",
    "X_train, X_val, y_train, y_val = train_test_split(train[independent], train['interest_level'], test_size=0.33, random_state=1)"
   ]
  },
  {
   "cell_type": "code",
   "execution_count": 15,
   "metadata": {
    "collapsed": false,
    "deletable": true,
    "editable": true
   },
   "outputs": [],
   "source": [
    "model_rf = pickle.load(open(\"Models/best_rf.pkl\", \"rb\"))\n",
    "model_xgb = pickle.load(open(\"Models/best_xgb.pkl\", \"rb\"))\n",
    "\n",
    "preds_rf_train, probs_rf_train = rental_utils.predict(model_rf, X_train)\n",
    "preds_rf_val, probs_rf_val = rental_utils.predict(model_rf, X_val)\n",
    "\n",
    "preds_xgb_train, probs_xgb_train = rental_utils.predict(model_xgb, X_train)\n",
    "preds_xgb_val, probs_xgb_val = rental_utils.predict(model_xgb, X_val)\n",
    "\n",
    "preds_train = preds_xgb_train\n",
    "preds_val = preds_xgb_val\n",
    "probs_train = (probs_rf_train + probs_xgb_train)/2\n",
    "probs_val = (probs_rf_val + probs_xgb_val)/2"
   ]
  },
  {
   "cell_type": "code",
   "execution_count": 16,
   "metadata": {
    "collapsed": false,
    "deletable": true,
    "editable": true
   },
   "outputs": [
    {
     "name": "stdout",
     "output_type": "stream",
     "text": [
      "col_0   high    low  medium\n",
      "row_0                      \n",
      "high     299     80     220\n",
      "low      495  10535    2320\n",
      "medium   456    777    1105\n",
      "\n",
      "col_0       high       low    medium\n",
      "row_0                               \n",
      "high    0.499165  0.133556  0.367279\n",
      "low     0.037079  0.789139  0.173783\n",
      "medium  0.195038  0.332335  0.472626\n",
      "\n",
      "Validation Accuracy: 73.3\n",
      "Log loss:            0.607\n",
      "\n",
      "High Accuracy: 49.9\n",
      "Medium Accuracy: 47.3\n",
      "Low Accuracy: 78.9\n"
     ]
    }
   ],
   "source": [
    "ct = pd.crosstab(preds_val, y_val.values, margins=False)\n",
    "print(ct)\n",
    "\n",
    "print('')\n",
    "ct_perc = ct.apply(lambda x: x/sum(x), axis=1)\n",
    "print(ct_perc)\n",
    "\n",
    "print('')\n",
    "accuracy_val = float(np.sum(preds_val==y_val))/len(preds_val)\n",
    "print('Validation Accuracy: ' + str(round(100*accuracy_val, 1)))\n",
    "print('Log loss:            ' + str(round(log_loss(y_val, probs_val), 3)))\n",
    "\n",
    "print('')\n",
    "high_accuracy = ct_perc.iloc[0,0]\n",
    "print('High Accuracy: ' + str(round(100*high_accuracy, 1)))\n",
    "med_accuracy = ct_perc.iloc[2,2]\n",
    "print('Medium Accuracy: ' + str(round(100*med_accuracy, 1)))\n",
    "low_accuracy = ct_perc.iloc[1,1]\n",
    "print('Low Accuracy: ' + str(round(100*low_accuracy, 1)))\n"
   ]
  },
  {
   "cell_type": "code",
   "execution_count": 12,
   "metadata": {
    "collapsed": false,
    "deletable": true,
    "editable": true
   },
   "outputs": [
    {
     "data": {
      "text/plain": [
       "<matplotlib.axes._subplots.AxesSubplot at 0x7fed3d25a110>"
      ]
     },
     "execution_count": 12,
     "metadata": {},
     "output_type": "execute_result"
    },
    {
     "data": {
      "image/png": "[encoded data removed]",
      "text/plain": [
       "<matplotlib.figure.Figure at 0x7fed3ed60ad0>"
      ]
     },
     "metadata": {},
     "output_type": "display_data"
    }
   ],
   "source": [
    "importance = pd.DataFrame({'variable':independent, 'importance':model_rf.feature_importances_})\n",
    "importance.sort_values(by='importance', ascending=False, inplace=True)\n",
    "top_importance = importance.head(20)\n",
    "\n",
    "sns.barplot(y='variable', x='importance', color=\"midnightblue\", data=top_importance)"
   ]
  },
  {
   "cell_type": "code",
   "execution_count": 9,
   "metadata": {
    "collapsed": false,
    "deletable": true,
    "editable": true
   },
   "outputs": [
    {
     "name": "stdout",
     "output_type": "stream",
     "text": [
      "Written to file Submissions/submission_2017-03-22_1737.csv\n",
      "   listing_id      high    medium       low\n",
      "0     7142618  0.069014  0.248938  0.682048\n",
      "1     7210040  0.103586  0.230697  0.665718\n",
      "2     7174566  0.027040  0.030589  0.942371\n",
      "3     7191391  0.128080  0.329540  0.542380\n",
      "4     7171695  0.034259  0.100720  0.865021\n"
     ]
    },
    {
     "data": {
      "text/plain": [
       "0"
      ]
     },
     "execution_count": 9,
     "metadata": {},
     "output_type": "execute_result"
    }
   ],
   "source": [
    "rental_utils.prepare_submission(model, test, independent)"
   ]
  }
 ],
 "metadata": {
  "kernelspec": {
   "display_name": "Python 2",
   "language": "python",
   "name": "python2"
  },
  "language_info": {
   "codemirror_mode": {
    "name": "ipython",
    "version": 2
   },
   "file_extension": ".py",
   "mimetype": "text/x-python",
   "name": "python",
   "nbconvert_exporter": "python",
   "pygments_lexer": "ipython2",
   "version": "2.7.6"
  }
 },
 "nbformat": 4,
 "nbformat_minor": 2
}
