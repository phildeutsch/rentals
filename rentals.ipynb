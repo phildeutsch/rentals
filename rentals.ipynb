{
 "cells": [
  {
   "cell_type": "code",
   "execution_count": 1,
   "metadata": {
    "collapsed": false,
    "deletable": true,
    "editable": true
   },
   "outputs": [
    {
     "data": {
      "text/plain": [
       "<module 'rental_utils' from 'rental_utils.pyc'>"
      ]
     },
     "execution_count": 1,
     "metadata": {},
     "output_type": "execute_result"
    }
   ],
   "source": [
    "import json\n",
    "\n",
    "import datetime\n",
    "import pandas as pd\n",
    "import numpy as np\n",
    "import matplotlib.pyplot as plt\n",
    "import seaborn as sns\n",
    "\n",
    "from sklearn.ensemble import RandomForestClassifier\n",
    "from sklearn.ensemble import GradientBoostingClassifier\n",
    "\n",
    "%matplotlib inline\n",
    "sns.set(style=\"whitegrid\")\n",
    "\n",
    "import rental_utils; reload(rental_utils)"
   ]
  },
  {
   "cell_type": "code",
   "execution_count": 2,
   "metadata": {
    "collapsed": true,
    "deletable": true,
    "editable": true
   },
   "outputs": [],
   "source": [
    "train_raw = pd.read_json('Data/train.json')\n",
    "test_raw = pd.read_json('Data/test.json')"
   ]
  },
  {
   "cell_type": "code",
   "execution_count": 3,
   "metadata": {
    "collapsed": false,
    "deletable": true,
    "editable": true
   },
   "outputs": [
    {
     "name": "stdout",
     "output_type": "stream",
     "text": [
      "(49352, 15)\n",
      "(74659, 14)\n"
     ]
    }
   ],
   "source": [
    "print(train_raw.shape)\n",
    "print(test_raw.shape)"
   ]
  },
  {
   "cell_type": "code",
   "execution_count": 4,
   "metadata": {
    "collapsed": false,
    "deletable": true,
    "editable": true
   },
   "outputs": [
    {
     "data": {
      "text/html": [
       "<div>\n",
       "<table border=\"1\" class=\"dataframe\">\n",
       "  <thead>\n",
       "    <tr style=\"text-align: right;\">\n",
       "      <th></th>\n",
       "      <th>bathrooms</th>\n",
       "      <th>bedrooms</th>\n",
       "      <th>building_id</th>\n",
       "      <th>created</th>\n",
       "      <th>description</th>\n",
       "      <th>display_address</th>\n",
       "      <th>features</th>\n",
       "      <th>interest_level</th>\n",
       "      <th>latitude</th>\n",
       "      <th>listing_id</th>\n",
       "      <th>longitude</th>\n",
       "      <th>manager_id</th>\n",
       "      <th>photos</th>\n",
       "      <th>price</th>\n",
       "      <th>street_address</th>\n",
       "    </tr>\n",
       "  </thead>\n",
       "  <tbody>\n",
       "    <tr>\n",
       "      <th>10</th>\n",
       "      <td>1.5</td>\n",
       "      <td>3</td>\n",
       "      <td>53a5b119ba8f7b61d4e010512e0dfc85</td>\n",
       "      <td>2016-06-24 07:54:24</td>\n",
       "      <td>A Brand New 3 Bedroom 1.5 bath ApartmentEnjoy ...</td>\n",
       "      <td>Metropolitan Avenue</td>\n",
       "      <td>[]</td>\n",
       "      <td>medium</td>\n",
       "      <td>40.7145</td>\n",
       "      <td>7211212</td>\n",
       "      <td>-73.9425</td>\n",
       "      <td>5ba989232d0489da1b5f2c45f6688adc</td>\n",
       "      <td>[https://photos.renthop.com/2/7211212_1ed4542e...</td>\n",
       "      <td>3000</td>\n",
       "      <td>792 Metropolitan Avenue</td>\n",
       "    </tr>\n",
       "    <tr>\n",
       "      <th>10000</th>\n",
       "      <td>1.0</td>\n",
       "      <td>2</td>\n",
       "      <td>c5c8a357cba207596b04d1afd1e4f130</td>\n",
       "      <td>2016-06-12 12:19:27</td>\n",
       "      <td></td>\n",
       "      <td>Columbus Avenue</td>\n",
       "      <td>[Doorman, Elevator, Fitness Center, Cats Allow...</td>\n",
       "      <td>low</td>\n",
       "      <td>40.7947</td>\n",
       "      <td>7150865</td>\n",
       "      <td>-73.9667</td>\n",
       "      <td>7533621a882f71e25173b27e3139d83d</td>\n",
       "      <td>[https://photos.renthop.com/2/7150865_be3306c5...</td>\n",
       "      <td>5465</td>\n",
       "      <td>808 Columbus Avenue</td>\n",
       "    </tr>\n",
       "    <tr>\n",
       "      <th>100004</th>\n",
       "      <td>1.0</td>\n",
       "      <td>1</td>\n",
       "      <td>c3ba40552e2120b0acfc3cb5730bb2aa</td>\n",
       "      <td>2016-04-17 03:26:41</td>\n",
       "      <td>Top Top West Village location, beautiful Pre-w...</td>\n",
       "      <td>W 13 Street</td>\n",
       "      <td>[Laundry In Building, Dishwasher, Hardwood Flo...</td>\n",
       "      <td>high</td>\n",
       "      <td>40.7388</td>\n",
       "      <td>6887163</td>\n",
       "      <td>-74.0018</td>\n",
       "      <td>d9039c43983f6e564b1482b273bd7b01</td>\n",
       "      <td>[https://photos.renthop.com/2/6887163_de85c427...</td>\n",
       "      <td>2850</td>\n",
       "      <td>241 W 13 Street</td>\n",
       "    </tr>\n",
       "    <tr>\n",
       "      <th>100007</th>\n",
       "      <td>1.0</td>\n",
       "      <td>1</td>\n",
       "      <td>28d9ad350afeaab8027513a3e52ac8d5</td>\n",
       "      <td>2016-04-18 02:22:02</td>\n",
       "      <td>Building Amenities - Garage - Garden - fitness...</td>\n",
       "      <td>East 49th Street</td>\n",
       "      <td>[Hardwood Floors, No Fee]</td>\n",
       "      <td>low</td>\n",
       "      <td>40.7539</td>\n",
       "      <td>6888711</td>\n",
       "      <td>-73.9677</td>\n",
       "      <td>1067e078446a7897d2da493d2f741316</td>\n",
       "      <td>[https://photos.renthop.com/2/6888711_6e660cee...</td>\n",
       "      <td>3275</td>\n",
       "      <td>333 East 49th Street</td>\n",
       "    </tr>\n",
       "    <tr>\n",
       "      <th>100013</th>\n",
       "      <td>1.0</td>\n",
       "      <td>4</td>\n",
       "      <td>0</td>\n",
       "      <td>2016-04-28 01:32:41</td>\n",
       "      <td>Beautifully renovated 3 bedroom flex 4 bedroom...</td>\n",
       "      <td>West 143rd Street</td>\n",
       "      <td>[Pre-War]</td>\n",
       "      <td>low</td>\n",
       "      <td>40.8241</td>\n",
       "      <td>6934781</td>\n",
       "      <td>-73.9493</td>\n",
       "      <td>98e13ad4b495b9613cef886d79a6291f</td>\n",
       "      <td>[https://photos.renthop.com/2/6934781_1fa4b41a...</td>\n",
       "      <td>3350</td>\n",
       "      <td>500 West 143rd Street</td>\n",
       "    </tr>\n",
       "  </tbody>\n",
       "</table>\n",
       "</div>"
      ],
      "text/plain": [
       "        bathrooms  bedrooms                       building_id  \\\n",
       "10            1.5         3  53a5b119ba8f7b61d4e010512e0dfc85   \n",
       "10000         1.0         2  c5c8a357cba207596b04d1afd1e4f130   \n",
       "100004        1.0         1  c3ba40552e2120b0acfc3cb5730bb2aa   \n",
       "100007        1.0         1  28d9ad350afeaab8027513a3e52ac8d5   \n",
       "100013        1.0         4                                 0   \n",
       "\n",
       "                    created  \\\n",
       "10      2016-06-24 07:54:24   \n",
       "10000   2016-06-12 12:19:27   \n",
       "100004  2016-04-17 03:26:41   \n",
       "100007  2016-04-18 02:22:02   \n",
       "100013  2016-04-28 01:32:41   \n",
       "\n",
       "                                              description  \\\n",
       "10      A Brand New 3 Bedroom 1.5 bath ApartmentEnjoy ...   \n",
       "10000                                                       \n",
       "100004  Top Top West Village location, beautiful Pre-w...   \n",
       "100007  Building Amenities - Garage - Garden - fitness...   \n",
       "100013  Beautifully renovated 3 bedroom flex 4 bedroom...   \n",
       "\n",
       "            display_address  \\\n",
       "10      Metropolitan Avenue   \n",
       "10000       Columbus Avenue   \n",
       "100004          W 13 Street   \n",
       "100007     East 49th Street   \n",
       "100013    West 143rd Street   \n",
       "\n",
       "                                                 features interest_level  \\\n",
       "10                                                     []         medium   \n",
       "10000   [Doorman, Elevator, Fitness Center, Cats Allow...            low   \n",
       "100004  [Laundry In Building, Dishwasher, Hardwood Flo...           high   \n",
       "100007                          [Hardwood Floors, No Fee]            low   \n",
       "100013                                          [Pre-War]            low   \n",
       "\n",
       "        latitude  listing_id  longitude                        manager_id  \\\n",
       "10       40.7145     7211212   -73.9425  5ba989232d0489da1b5f2c45f6688adc   \n",
       "10000    40.7947     7150865   -73.9667  7533621a882f71e25173b27e3139d83d   \n",
       "100004   40.7388     6887163   -74.0018  d9039c43983f6e564b1482b273bd7b01   \n",
       "100007   40.7539     6888711   -73.9677  1067e078446a7897d2da493d2f741316   \n",
       "100013   40.8241     6934781   -73.9493  98e13ad4b495b9613cef886d79a6291f   \n",
       "\n",
       "                                                   photos  price  \\\n",
       "10      [https://photos.renthop.com/2/7211212_1ed4542e...   3000   \n",
       "10000   [https://photos.renthop.com/2/7150865_be3306c5...   5465   \n",
       "100004  [https://photos.renthop.com/2/6887163_de85c427...   2850   \n",
       "100007  [https://photos.renthop.com/2/6888711_6e660cee...   3275   \n",
       "100013  [https://photos.renthop.com/2/6934781_1fa4b41a...   3350   \n",
       "\n",
       "                 street_address  \n",
       "10      792 Metropolitan Avenue  \n",
       "10000       808 Columbus Avenue  \n",
       "100004          241 W 13 Street  \n",
       "100007     333 East 49th Street  \n",
       "100013    500 West 143rd Street  "
      ]
     },
     "execution_count": 4,
     "metadata": {},
     "output_type": "execute_result"
    }
   ],
   "source": [
    "train_raw.head()"
   ]
  },
  {
   "cell_type": "code",
   "execution_count": 5,
   "metadata": {
    "collapsed": false,
    "deletable": true,
    "editable": true
   },
   "outputs": [],
   "source": [
    "[features, feature_names] = rental_utils.get_features(50, train_raw)\n",
    "\n",
    "train = rental_utils.add_features(train_raw, features, feature_names)\n",
    "test = rental_utils.add_features(test_raw, features, feature_names)\n",
    "\n",
    "train = rental_utils.add_region(train)\n",
    "test = rental_utils.add_region(test)\n",
    "\n",
    "train = rental_utils.add_variables(train, train)\n",
    "test = rental_utils.add_variables(test, train)"
   ]
  },
  {
   "cell_type": "code",
   "execution_count": 6,
   "metadata": {
    "collapsed": false
   },
   "outputs": [],
   "source": [
    "dv_county = rental_utils.vectorizer('County', train)\n",
    "train = rental_utils.one_hot_encode(dv_county, train, 'County')\n",
    "test = rental_utils.one_hot_encode(dv_county, test, 'County')\n",
    "\n",
    "dv_name = rental_utils.vectorizer('Name', train)\n",
    "train = rental_utils.one_hot_encode(dv_name, train, 'Name')\n",
    "test = rental_utils.one_hot_encode(dv_name, test, 'Name')"
   ]
  },
  {
   "cell_type": "code",
   "execution_count": 7,
   "metadata": {
    "collapsed": false
   },
   "outputs": [],
   "source": [
    "dv_region = rental_utils.vectorizer('RegionID', train)\n",
    "train = rental_utils.one_hot_encode(dv_region, train, 'RegionID')\n",
    "test = rental_utils.one_hot_encode(dv_region, test, 'RegionID')"
   ]
  },
  {
   "cell_type": "code",
   "execution_count": 8,
   "metadata": {
    "collapsed": false,
    "deletable": true,
    "editable": true
   },
   "outputs": [
    {
     "name": "stdout",
     "output_type": "stream",
     "text": [
      "['bathrooms', 'bedrooms', 'price', u'elevator', u'hardwood_floors', u'cats_allowed', u'dogs_allowed', u'doorman', u'dishwasher', u'laundry_in_building', u'no_fee', u'fitness_center', u'laundry_in_unit', u'pre-war', u'roof_deck', u'outdoor_space', u'dining_room', u'high_speed_internet', u'balcony', u'swimming_pool', u'new_construction', u'terrace', u'exclusive', u'loft', u'garden/patio', u'wheelchair_access', u'prewar', u'common_outdoor_space', u'hardwood', u'fireplace', u'simplex', u'lowrise', u'garage', u'laundry_room', u'reduced_fee', u'furnished', u'multi-level', u'high_ceilings', u'private_outdoor_space', u'publicoutdoor', u'parking_space', u'roof-deck', u'live_in_super', u'renovated', u'pool', u'on-site_laundry', u'laundry', u'green_building', u'storage', u'high_ceiling', u'washer_in_unit', u'dryer_in_unit', u'stainless_steel_appliances', 'description_length', 'n_features', 'n_photos', 'month', u'County=Bronx', u'County=Kings', u'County=New York', u'County=None', u'County=Queens', u'County=Richmond', u'Name=Astoria', u'Name=Astoria Heights', u'Name=Bath Beach', u'Name=Battery Park', u'Name=Bay Ridge', u'Name=Bay Terrace', u'Name=Bayside', u'Name=Bedford Park', u'Name=Bedford Stuyvesant', u'Name=Belmont', u'Name=Bensonhurst', u'Name=Blissville', u'Name=Boerum Hill', u'Name=Borough Park', u'Name=Briarwood', u'Name=Brighton Beach', u'Name=Brooklyn Heights', u'Name=Brownsville', u'Name=Bushwick', u'Name=Canarsie', u'Name=Carnegie Hill', u'Name=Carroll Gardens', u'Name=Castle Hill', u'Name=Central Park', u'Name=Chelsea', u'Name=Chinatown', u'Name=Clinton', u'Name=Clinton Hill', u'Name=Cobble Hill', u'Name=Columbia Street Waterfront District', u'Name=Columbus Circle', u'Name=Concourse', u'Name=Coney Island', u'Name=Corona', u'Name=Country Club', u'Name=Crown Heights', u'Name=DUMBO', u'Name=Downtown', u'Name=Dyker Heights', u'Name=East Elmhurst', u'Name=East Flatbush', u'Name=East Harlem', u'Name=East New York', u'Name=East Tremont', u'Name=East Village', u'Name=Elmhurst', u'Name=Far Rockaway', u'Name=Fieldston', u'Name=Financial District', u'Name=Flatbush', u'Name=Flatiron District', u'Name=Flatlands', u'Name=Flushing', u'Name=Fordham', u'Name=Forest Hills', u'Name=Forest Hills Gardens', u'Name=Fort Greene', u'Name=Fort Hamilton', u'Name=Fort Wadsworth', u'Name=Garment District', u'Name=Georgetown', u'Name=Glen Oaks', u'Name=Glendale', u'Name=Gowanus', u'Name=Gramercy', u'Name=Gravesend', u'Name=Greenpoint', u'Name=Greenwich Village', u'Name=Greenwood', u'Name=Hamilton Heights', u'Name=Harlem', u'Name=Heartland Village', u'Name=High Bridge', u'Name=Hillcrest', u'Name=Hollis', u'Name=Homecrest', u'Name=Hunters Point', u'Name=Hunts Point', u'Name=Inwood', u'Name=Jackson Heights', u'Name=Jamaica', u'Name=Jamaica Estates', u'Name=Kensington', u'Name=Kew Gardens', u'Name=Kew Gardens Hills', u'Name=Kingsbridge', u'Name=Laurelton', u'Name=Little Italy', u'Name=Lower East Side', u'Name=Manhattanville', u'Name=Marble Hill', u'Name=Marine Park', u'Name=Maspeth', u'Name=Melrose', u'Name=Middle Village', u'Name=Midtown', u'Name=Midwood', u'Name=Morningside Heights', u'Name=Morris Heights', u'Name=Morris Park', u'Name=Mott Haven', u'Name=Murray Hill', u'Name=Navy Yard', u'Name=Neponsit', u'Name=New Utrecht', u'Name=NoHo', u'Name=North Riverdale', u'Name=Norwood', u'Name=Oakland Gardens', u'Name=Ocean Hill', u'Name=Ocean Parkway', u'Name=Old Town', u'Name=Ozone Park', u'Name=Park Hill', u'Name=Park Slope', u'Name=Parkchester', u'Name=Pelham Bay', u'Name=Pomonok', u'Name=Port Morris', u'Name=Prospect Heights', u'Name=Prospect Lefferts Gardens', u'Name=Queens Village', u'Name=Red Hook', u'Name=Rego Park', u'Name=Richmond Hill', u'Name=Ridgewood', u'Name=Rikers Island', u'Name=Riverdale', u'Name=Rockaway Beach', u'Name=Rockaway Park', u'Name=Roosevelt Island', u'Name=Sheepshead Bay', u'Name=SoHo', u'Name=Soundview', u'Name=South Ozone Park', u'Name=Springfield Gardens', u'Name=Spuyten Duyvil', u'Name=St. George', u'Name=Stapleton', u'Name=Stuyvesant Town', u'Name=Sunnyside', u'Name=Sunset Park', u'Name=Sutton Place', u'Name=Throggs Neck', u'Name=Tompkinsville', u'Name=Tottenville', u'Name=Tremont', u'Name=Tribeca', u'Name=Tudor City', u'Name=Turtle Bay', u'Name=Unionport', u'Name=University Heights', u'Name=Upper East Side', u'Name=Upper West Side', u'Name=Van Cortlandt Park', u'Name=Wakefield', u'Name=Washington Heights', u'Name=West Village', u'Name=Whitestone', u'Name=Williamsbridge', u'Name=Williamsburg', u'Name=Windsor Terrace', u'Name=Wingate', u'Name=Woodhaven', u'Name=Woodside', u'RegionID=10957', u'RegionID=13356', u'RegionID=18071', u'RegionID=18131', u'RegionID=193182', u'RegionID=193189', u'RegionID=193285', u'RegionID=193406', u'RegionID=193476', u'RegionID=193526', u'RegionID=193587', u'RegionID=193640', u'RegionID=193821', u'RegionID=193974', u'RegionID=194318', u'RegionID=194379', u'RegionID=194430', u'RegionID=194474', u'RegionID=194737', u'RegionID=194810', u'RegionID=195133', u'RegionID=195267', u'RegionID=195576', u'RegionID=196338', u'RegionID=196538', u'RegionID=196623', u'RegionID=197042', u'RegionID=197044', u'RegionID=197300', u'RegionID=197427', u'RegionID=198184', u'RegionID=198432', u'RegionID=198687', u'RegionID=199001', u'RegionID=199091', u'RegionID=20239', u'RegionID=25160', u'RegionID=25294', u'RegionID=26254', u'RegionID=26352', u'RegionID=270796', u'RegionID=270800', u'RegionID=270802', u'RegionID=270810', u'RegionID=270811', u'RegionID=270812', u'RegionID=270815', u'RegionID=270816', u'RegionID=270817', u'RegionID=270825', u'RegionID=270828', u'RegionID=270829', u'RegionID=270834', u'RegionID=270835', u'RegionID=270838', u'RegionID=270841', u'RegionID=270842', u'RegionID=270846', u'RegionID=270848', u'RegionID=270850', u'RegionID=270853', u'RegionID=270855', u'RegionID=270857', u'RegionID=270873', u'RegionID=270875', u'RegionID=270879', u'RegionID=270880', u'RegionID=270881', u'RegionID=270885', u'RegionID=270886', u'RegionID=270891', u'RegionID=270893', u'RegionID=270895', u'RegionID=270900', u'RegionID=270902', u'RegionID=270903', u'RegionID=270904', u'RegionID=270907', u'RegionID=270922', u'RegionID=270928', u'RegionID=270945', u'RegionID=270946', u'RegionID=270951', u'RegionID=270952', u'RegionID=270953', u'RegionID=270957', u'RegionID=270958', u'RegionID=270964', u'RegionID=270968', u'RegionID=270969', u'RegionID=27182', u'RegionID=272816', u'RegionID=272869', u'RegionID=272902', u'RegionID=272994', u'RegionID=273205', u'RegionID=273289', u'RegionID=273757', u'RegionID=273766', u'RegionID=273860', u'RegionID=273903', u'RegionID=274117', u'RegionID=274285', u'RegionID=274415', u'RegionID=274627', u'RegionID=274676', u'RegionID=275115', u'RegionID=275173', u'RegionID=275518', u'RegionID=275620', u'RegionID=275754', u'RegionID=276060', u'RegionID=276128', u'RegionID=276254', u'RegionID=276345', u'RegionID=32192', u'RegionID=343203', u'RegionID=343204', u'RegionID=343205', u'RegionID=343208', u'RegionID=343209', u'RegionID=343210', u'RegionID=343211', u'RegionID=343212', u'RegionID=343213', u'RegionID=343214', u'RegionID=343215', u'RegionID=343216', u'RegionID=343218', u'RegionID=343219', u'RegionID=343220', u'RegionID=343221', u'RegionID=343222', u'RegionID=343225', u'RegionID=343226', u'RegionID=35961', u'RegionID=37309', u'RegionID=403122', u'RegionID=403131', u'RegionID=403202', u'RegionID=403205', u'RegionID=403206', u'RegionID=403207', u'RegionID=403208', u'RegionID=403209', u'RegionID=403210', u'RegionID=403213', u'RegionID=403215', u'RegionID=403217', u'RegionID=403218', u'RegionID=403219', u'RegionID=403220', u'RegionID=403221', u'RegionID=403222', u'RegionID=403223', u'RegionID=403228', u'RegionID=42662', u'RegionID=44302', u'RegionID=45032', u'RegionID=49994', u'RegionID=55801', u'RegionID=56273', u'RegionID=57348', u'RegionID=5837', u'RegionID=6719', u'RegionID=8731']\n"
     ]
    }
   ],
   "source": [
    "independent = (['bathrooms', 'bedrooms', 'price'] + feature_names + \n",
    "    ['description_length', 'n_features', 'n_photos', 'month'] +\n",
    "    [x for x in train.columns.values if 'County' in x] +\n",
    "    [x for x in train.columns.values if 'Name' in x] +\n",
    "    [x for x in train.columns.values if 'Region' in x]\n",
    "    )\n",
    "print(independent)"
   ]
  },
  {
   "cell_type": "code",
   "execution_count": 9,
   "metadata": {
    "collapsed": false,
    "deletable": true,
    "editable": true
   },
   "outputs": [],
   "source": [
    "model = RandomForestClassifier()\n",
    "model.fit(train[independent], train['interest_level'])\n",
    "preds = model.predict(train[independent])\n",
    "probs = model.predict_proba(train[independent])"
   ]
  },
  {
   "cell_type": "code",
   "execution_count": 10,
   "metadata": {
    "collapsed": false,
    "deletable": true,
    "editable": true
   },
   "outputs": [
    {
     "name": "stdout",
     "output_type": "stream",
     "text": [
      "col_0   high    low  medium\n",
      "row_0                      \n",
      "high    3633     33     119\n",
      "low       82  33985     904\n",
      "medium   124    266   10206\n",
      "\n",
      "col_0       high       low    medium\n",
      "row_0                               \n",
      "high    0.959841  0.008719  0.031440\n",
      "low     0.002345  0.971805  0.025850\n",
      "medium  0.011703  0.025104  0.963194\n",
      "\n",
      "Total Accuracy: 0.969038742098\n",
      "\n",
      "High Accuracy: 0.959841479524\n",
      "Medium Accuracy: 0.971805210031\n",
      "Low Accuracy: 0.963193657984\n"
     ]
    }
   ],
   "source": [
    "ct = pd.crosstab(preds, train['interest_level'].values, margins=False)\n",
    "print(ct)\n",
    "\n",
    "print('')\n",
    "ct_perc = ct.apply(lambda x: x/sum(x), axis=1)\n",
    "print(ct_perc)\n",
    "\n",
    "print('')\n",
    "accuracy = float(np.sum(preds==train['interest_level'].values))/len(preds)\n",
    "print('Total Accuracy: ' + str(accuracy))\n",
    "\n",
    "print('')\n",
    "high_accuracy = ct_perc.iloc[0,0]\n",
    "print('High Accuracy: ' + str(high_accuracy))\n",
    "med_accuracy = ct_perc.iloc[1,1]\n",
    "print('Medium Accuracy: ' + str(med_accuracy))\n",
    "low_accuracy = ct_perc.iloc[2,2]\n",
    "print('Low Accuracy: ' + str(low_accuracy))\n"
   ]
  },
  {
   "cell_type": "code",
   "execution_count": 11,
   "metadata": {
    "collapsed": false,
    "deletable": true,
    "editable": true
   },
   "outputs": [
    {
     "name": "stdout",
     "output_type": "stream",
     "text": [
      "   listing_id      high    medium       low\n",
      "0     7142618  0.040159  0.500000  0.500000\n",
      "1     7210040  0.040159  0.200000  0.800000\n",
      "2     7174566  0.040159  0.028195  0.963194\n",
      "3     7191391  0.040159  0.400000  0.600000\n",
      "4     7171695  0.040159  0.200000  0.800000\n"
     ]
    }
   ],
   "source": [
    "submission = test[['listing_id']]\n",
    "probs = model.predict_proba(test[independent])\n",
    "submission = pd.concat([submission.reset_index(drop=True), pd.DataFrame(probs, columns=model.classes_)], axis=1)\n",
    "submission = submission[['listing_id', 'high', 'medium', 'low']]\n",
    "\n",
    "submission.loc[submission['high'] > high_accuracy, 'high'] = high_accuracy\n",
    "submission.loc[submission['high'] < 1 - high_accuracy, 'high'] = 1 - high_accuracy\n",
    "submission.loc[submission['medium'] > med_accuracy, 'medium'] = med_accuracy\n",
    "submission.loc[submission['medium'] < 1 - med_accuracy, 'medium'] = 1 - med_accuracy\n",
    "submission.loc[submission['low'] > low_accuracy, 'low'] = low_accuracy\n",
    "submission.loc[submission['low'] < 1 - low_accuracy, 'low'] = 1 - low_accuracy\n",
    "\n",
    "print(submission.head())\n",
    "\n",
    "timestamp = str(datetime.datetime.now())[:16]\n",
    "submission_name = 'Submissions/submission ' + timestamp + '.csv'\n",
    "submission_name = submission_name.replace(' ', '_').replace(':','')\n",
    "submission.to_csv(submission_name, index=False)"
   ]
  }
 ],
 "metadata": {
  "kernelspec": {
   "display_name": "Python 2",
   "language": "python",
   "name": "python2"
  },
  "language_info": {
   "codemirror_mode": {
    "name": "ipython",
    "version": 2
   },
   "file_extension": ".py",
   "mimetype": "text/x-python",
   "name": "python",
   "nbconvert_exporter": "python",
   "pygments_lexer": "ipython2",
   "version": "2.7.13"
  }
 },
 "nbformat": 4,
 "nbformat_minor": 2
}
