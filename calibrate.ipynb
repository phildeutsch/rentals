{
 "cells": [
  {
   "cell_type": "code",
   "execution_count": null,
   "metadata": {
    "collapsed": true
   },
   "outputs": [],
   "source": [
    "import json\n",
    "\n",
    "import datetime\n",
    "import pandas as pd\n",
    "import numpy as np\n",
    "import matplotlib.pyplot as plt\n",
    "import seaborn as sns\n",
    "\n",
    "from sklearn.ensemble import RandomForestClassifier, ExtraTreesClassifier\n",
    "from sklearn.ensemble import GradientBoostingClassifier\n",
    "from sklearn.metrics import log_loss\n",
    "from sklearn.model_selection import GridSearchCV\n",
    "\n",
    "%matplotlib inline\n",
    "sns.set(style=\"whitegrid\")\n",
    "\n",
    "import rental_utils; reload(rental_utils)"
   ]
  },
  {
   "cell_type": "code",
   "execution_count": null,
   "metadata": {
    "collapsed": true
   },
   "outputs": [],
   "source": [
    "train_raw = pd.read_json('Data/train.json')\n",
    "test_raw = pd.read_json('Data/test.json')\n",
    "\n",
    "[features, feature_names] = rental_utils.get_features(25, train_raw)\n",
    "\n",
    "train = rental_utils.add_features(train_raw, features, feature_names)\n",
    "test = rental_utils.add_features(test_raw, features, feature_names)\n",
    "\n",
    "train = rental_utils.add_region(train)\n",
    "test = rental_utils.add_region(test)\n",
    "\n",
    "train = rental_utils.add_variables(train, train)\n",
    "test = rental_utils.add_variables(test, train)\n",
    "\n",
    "independent = (['bathrooms', 'bedrooms', 'price'] + feature_names + \n",
    "    ['description_length', 'n_features', 'n_photos', 'month'] +\n",
    "    [x for x in train.columns.values if 'County' in x] +\n",
    "    [x for x in train.columns.values if 'Name' in x] +\n",
    "    [x for x in train.columns.values if 'Region' in x]\n",
    "    )"
   ]
  },
  {
   "cell_type": "code",
   "execution_count": null,
   "metadata": {
    "collapsed": true
   },
   "outputs": [],
   "source": [
    "n_estimators = list(np.arange(10, 60, 20))\n",
    "max_features = [None, 'sqrt', 'log2'] \n",
    "\n",
    "hyperparameters = {\n",
    "    'n_estimators': n_estimators, \n",
    "    'max_features': max_features\n",
    "}\n",
    "\n",
    "gridCV = GridSearchCV(RandomForestClassifier(), param_grid=hyperparameters, cv=10, n_jobs=4)\n",
    "\n",
    "gridCV.fit(X_train, y_train)\n",
    "\n",
    "# Identify optimal hyperparameter values\n",
    "best_n_estim      = gridCV.best_params_['n_estimators']\n",
    "best_max_features = gridCV.best_params_['max_features']  \n",
    "\n",
    "print(\"The best performing n_estimators value is: {}\".format(best_n_estim))\n",
    "print(\"The best performing max_features value is: {}\".format(best_max_features))"
   ]
  },
  {
   "cell_type": "code",
   "execution_count": null,
   "metadata": {
    "collapsed": true
   },
   "outputs": [],
   "source": [
    "#scores = [x[1] for x in gridCV.grid_scores_]\n",
    "scores = gridCV.cv_results_['mean_test_score']\n",
    "scores = np.array(scores).reshape(len(n_estimators), len(max_features))\n",
    "scores = np.transpose(scores)\n",
    "\n",
    "# Make heatmap from grid search results\n",
    "plt.figure(figsize=(12, 6))\n",
    "plt.imshow(scores, interpolation='nearest', origin='higher', cmap='jet_r')\n",
    "plt.xticks(np.arange(len(n_estimators)), n_estimators)\n",
    "plt.yticks(np.arange(len(max_features)), max_features)\n",
    "plt.xlabel('Number of decision trees')\n",
    "plt.ylabel('Max features')\n",
    "plt.colorbar().set_label('Classification Accuracy', rotation=270, labelpad=20)\n",
    "plt.show()"
   ]
  }
 ],
 "metadata": {
  "kernelspec": {
   "display_name": "Python 2",
   "language": "python",
   "name": "python2"
  },
  "language_info": {
   "codemirror_mode": {
    "name": "ipython",
    "version": 2
   },
   "file_extension": ".py",
   "mimetype": "text/x-python",
   "name": "python",
   "nbconvert_exporter": "python",
   "pygments_lexer": "ipython2",
   "version": "2.7.13"
  }
 },
 "nbformat": 4,
 "nbformat_minor": 2
}
