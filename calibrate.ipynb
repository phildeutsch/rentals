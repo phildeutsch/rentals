{
 "cells": [
  {
   "cell_type": "code",
   "execution_count": 1,
   "metadata": {
    "collapsed": false,
    "deletable": true,
    "editable": true
   },
   "outputs": [
    {
     "data": {
      "text/plain": [
       "<module 'rental_utils' from 'rental_utils.pyc'>"
      ]
     },
     "execution_count": 1,
     "metadata": {},
     "output_type": "execute_result"
    }
   ],
   "source": [
    "import json\n",
    "\n",
    "import datetime\n",
    "import pandas as pd\n",
    "import numpy as np\n",
    "import matplotlib.pyplot as plt\n",
    "import seaborn as sns\n",
    "\n",
    "from sklearn.metrics import log_loss\n",
    "from sklearn.model_selection import RandomizedSearchCV\n",
    "from sklearn.model_selection import train_test_split\n",
    "\n",
    "from scipy.stats import randint as sp_randint\n",
    "\n",
    "%matplotlib inline\n",
    "sns.set(style=\"whitegrid\")\n",
    "\n",
    "import rental_utils; reload(rental_utils)"
   ]
  },
  {
   "cell_type": "code",
   "execution_count": 2,
   "metadata": {
    "collapsed": false,
    "deletable": true,
    "editable": true
   },
   "outputs": [],
   "source": [
    "train_raw = rental_utils.clean(pd.read_json('Data/train.json'))\n",
    "test_raw = rental_utils.clean(pd.read_json('Data/test.json'))\n",
    "\n",
    "[features, feature_names] = rental_utils.get_features(25, train_raw)\n",
    "\n",
    "train = rental_utils.add_features(train_raw, features, feature_names)\n",
    "test = rental_utils.add_features(test_raw, features, feature_names)\n",
    "\n",
    "train = rental_utils.add_region(train)\n",
    "test = rental_utils.add_region(test)\n",
    "\n",
    "train = rental_utils.add_variables(train, train)\n",
    "test = rental_utils.add_variables(test, train)\n",
    "\n",
    "dv_county = rental_utils.vectorizer('County', train)\n",
    "train = rental_utils.one_hot_encode(dv_county, train, 'County')\n",
    "test = rental_utils.one_hot_encode(dv_county, test, 'County')\n",
    "\n",
    "dv_name = rental_utils.vectorizer('Name', train)\n",
    "train = rental_utils.one_hot_encode(dv_name, train, 'Name')\n",
    "test = rental_utils.one_hot_encode(dv_name, test, 'Name')\n",
    "\n",
    "dv_region = rental_utils.vectorizer('RegionID', train)\n",
    "train = rental_utils.one_hot_encode(dv_region, train, 'RegionID')\n",
    "test = rental_utils.one_hot_encode(dv_region, test, 'RegionID')\n",
    "\n",
    "independent = (['bathrooms', 'bedrooms', 'rooms', 'price', 'price_per_room'] + feature_names + \n",
    "    ['description_length', 'n_features', 'n_photos'] +\n",
    "    ['created_year', 'created_month', 'created_weekday', 'created_hour'] +\n",
    "    [x for x in train.columns.values if 'County' in x] +\n",
    "    [x for x in train.columns.values if 'Name' in x] +\n",
    "    [x for x in train.columns.values if 'Region' in x]\n",
    "    )\n",
    "X_train, X_val, y_train, y_val = train_test_split(train[independent], train['interest_level'], test_size=0.33)"
   ]
  },
  {
   "cell_type": "code",
   "execution_count": 3,
   "metadata": {
    "collapsed": false,
    "deletable": true,
    "editable": true
   },
   "outputs": [
    {
     "data": {
      "text/plain": [
       "RandomizedSearchCV(cv=None, error_score='raise',\n",
       "          estimator=RandomForestClassifier(bootstrap=True, class_weight=None, criterion='gini',\n",
       "            max_depth=None, max_features='auto', max_leaf_nodes=None,\n",
       "            min_impurity_split=1e-07, min_samples_leaf=1,\n",
       "            min_samples_split=2, min_weight_fraction_leaf=0.0,\n",
       "            n_estimators=10, n_jobs=1, oob_score=False, random_state=None,\n",
       "            verbose=0, warm_start=False),\n",
       "          fit_params={}, iid=True, n_iter=20, n_jobs=1,\n",
       "          param_distributions={'bootstrap': [True, False], 'min_samples_leaf': <scipy.stats._distn_infrastructure.rv_frozen object at 0x000000000CA4AB38>, 'n_estimators': <scipy.stats._distn_infrastructure.rv_frozen object at 0x000000000CA4A908>, 'min_samples_split': <scipy.stats._distn_infrastructure.rv_frozen object at 0x000000000CA4AC50>, 'criterion': ['gini', 'entropy'], 'max_features': [0.1, 0.2, 0.33, 0.5], 'max_depth': <scipy.stats._distn_infrastructure.rv_frozen object at 0x000000000430B278>},\n",
       "          pre_dispatch='2*n_jobs', random_state=None, refit=True,\n",
       "          return_train_score=True, scoring=None, verbose=0)"
      ]
     },
     "execution_count": 3,
     "metadata": {},
     "output_type": "execute_result"
    }
   ],
   "source": [
    "clf = RandomForestClassifier()\n",
    "\n",
    "param_dist = {\"n_estimators\": sp_randint(10,100),\n",
    "              \"max_depth\": sp_randint(10,100),\n",
    "              \"max_features\": [0.1, 0.2, 0.33, 0.5],\n",
    "              \"min_samples_split\": sp_randint(2, 11),\n",
    "              \"min_samples_leaf\": sp_randint(1, 11),\n",
    "              \"bootstrap\": [True, False],\n",
    "              \"criterion\": [\"gini\", \"entropy\"]}\n",
    "\n",
    "n_iter_search = 20\n",
    "random_search = RandomizedSearchCV(clf, param_distributions=param_dist,\n",
    "                                   n_iter=n_iter_search)\n",
    "random_search.fit(X_val, y_val)"
   ]
  },
  {
   "cell_type": "code",
   "execution_count": 4,
   "metadata": {
    "collapsed": false,
    "deletable": true,
    "editable": true
   },
   "outputs": [
    {
     "name": "stdout",
     "output_type": "stream",
     "text": [
      "The best performing n_estimators value is:     83\n",
      "The best performing max_features value is:     0.33\n",
      "The best performing max_depth value is:        24\n",
      "The best performing min_samples_leaf value is: 10\n"
     ]
    }
   ],
   "source": [
    "# Identify optimal hyperparameter values\n",
    "best_n_estim      = random_search.best_params_['n_estimators']\n",
    "best_max_features = random_search.best_params_['max_features']  \n",
    "best_max_depth = random_search.best_params_['max_depth']  \n",
    "best_min_samples_leaf = random_search.best_params_['min_samples_leaf']  \n",
    "\n",
    "print(\"The best performing n_estimators value is:     {}\".format(best_n_estim))\n",
    "print(\"The best performing max_features value is:     {}\".format(best_max_features))\n",
    "print(\"The best performing max_depth value is:        {}\".format(best_max_depth))\n",
    "print(\"The best performing min_samples_leaf value is: {}\".format(best_min_samples_leaf))\n"
   ]
  },
  {
   "cell_type": "code",
   "execution_count": null,
   "metadata": {
    "collapsed": true,
    "deletable": true,
    "editable": true
   },
   "outputs": [],
   "source": []
  }
 ],
 "metadata": {
  "kernelspec": {
   "display_name": "Python 2",
   "language": "python",
   "name": "python2"
  },
  "language_info": {
   "codemirror_mode": {
    "name": "ipython",
    "version": 2
   },
   "file_extension": ".py",
   "mimetype": "text/x-python",
   "name": "python",
   "nbconvert_exporter": "python",
   "pygments_lexer": "ipython2",
   "version": "2.7.6"
  }
 },
 "nbformat": 4,
 "nbformat_minor": 2
}
