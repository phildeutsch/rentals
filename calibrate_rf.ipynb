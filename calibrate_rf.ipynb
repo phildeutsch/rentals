{
 "cells": [
  {
   "cell_type": "code",
   "execution_count": 1,
   "metadata": {},
   "outputs": [
    {
     "name": "stdout",
     "output_type": "stream",
     "text": [
      "[nltk_data] Downloading package stopwords to\n",
      "[nltk_data]     C:\\Users\\philipp.deutsch\\AppData\\Roaming\\nltk_data...\n",
      "[nltk_data]   Package stopwords is already up-to-date!\n",
      "[nltk_data] Downloading package stopwords to\n",
      "[nltk_data]     C:\\Users\\philipp.deutsch\\AppData\\Roaming\\nltk_data...\n",
      "[nltk_data]   Package stopwords is already up-to-date!\n"
     ]
    }
   ],
   "source": [
    "import pickle\n",
    "\n",
    "import pandas as pd\n",
    "import numpy as np\n",
    "import seaborn as sns\n",
    "import matplotlib.pyplot as plt\n",
    "\n",
    "from sklearn.ensemble import RandomForestClassifier\n",
    "from sklearn.metrics import log_loss\n",
    "\n",
    "import rental_utils; reload(rental_utils)\n",
    "\n",
    "%matplotlib inline\n",
    "sns.set(style=\"whitegrid\")"
   ]
  },
  {
   "cell_type": "code",
   "execution_count": 2,
   "metadata": {},
   "outputs": [
    {
     "name": "stdout",
     "output_type": "stream",
     "text": [
      "Loading raw data\n",
      "Adding features\n",
      "Adding regions\n",
      "Adding variables\n",
      "Dummyfying\n",
      "Splitting data\n"
     ]
    }
   ],
   "source": [
    "data, independent, test = rental_utils.load_data()\n",
    "[X_train, X_val, y_train, y_val] = data"
   ]
  },
  {
   "cell_type": "code",
   "execution_count": 3,
   "metadata": {},
   "outputs": [
    {
     "data": {
      "text/plain": [
       "RandomForestClassifier(bootstrap=True, class_weight=None, criterion='gini',\n",
       "            max_depth=None, max_features='auto', max_leaf_nodes=None,\n",
       "            min_impurity_split=1e-07, min_samples_leaf=1,\n",
       "            min_samples_split=2, min_weight_fraction_leaf=0.0,\n",
       "            n_estimators=1000, n_jobs=1, oob_score=False,\n",
       "            random_state=None, verbose=0, warm_start=False)"
      ]
     },
     "execution_count": 3,
     "metadata": {},
     "output_type": "execute_result"
    }
   ],
   "source": [
    "model = RandomForestClassifier(n_estimators=1000)\n",
    "model.fit(X_train, y_train)"
   ]
  },
  {
   "cell_type": "code",
   "execution_count": 4,
   "metadata": {},
   "outputs": [
    {
     "name": "stdout",
     "output_type": "stream",
     "text": [
      "col_0   high    low  medium\n",
      "row_0                      \n",
      "high     296     70     201\n",
      "low      499  10682    2409\n",
      "medium   455    640    1035\n",
      "\n",
      "col_0       high       low    medium\n",
      "row_0                               \n",
      "high    0.522046  0.123457  0.354497\n",
      "low     0.036718  0.786019  0.177263\n",
      "medium  0.213615  0.300469  0.485915\n",
      "\n",
      "Validation Accuracy: 73.8\n",
      "Log loss:            0.584\n",
      "\n",
      "High Accuracy: 52.2\n",
      "Medium Accuracy: 48.6\n",
      "Low Accuracy: 78.6\n"
     ]
    }
   ],
   "source": [
    "preds_train, probs_train = rental_utils.predict(model, X_train)\n",
    "preds_val, probs_val = rental_utils.predict(model, X_val)\n",
    "\n",
    "ct = pd.crosstab(preds_val, y_val.values, margins=False)\n",
    "print(ct)\n",
    "\n",
    "print('')\n",
    "ct_perc = ct.apply(lambda x: x/sum(x), axis=1)\n",
    "print(ct_perc)\n",
    "\n",
    "print('')\n",
    "accuracy_val = float(np.sum(preds_val==y_val))/len(preds_val)\n",
    "print('Validation Accuracy: ' + str(round(100*accuracy_val, 1)))\n",
    "print('Log loss:            ' + str(round(log_loss(y_val, probs_val), 3)))\n",
    "\n",
    "print('')\n",
    "high_accuracy = ct_perc.iloc[0,0]\n",
    "print('High Accuracy: ' + str(round(100*high_accuracy, 1)))\n",
    "med_accuracy = ct_perc.iloc[2,2]\n",
    "print('Medium Accuracy: ' + str(round(100*med_accuracy, 1)))\n",
    "low_accuracy = ct_perc.iloc[1,1]\n",
    "print('Low Accuracy: ' + str(round(100*low_accuracy, 1)))"
   ]
  },
  {
   "cell_type": "code",
   "execution_count": 5,
   "metadata": {},
   "outputs": [
    {
     "data": {
      "text/plain": [
       "<matplotlib.axes._subplots.AxesSubplot at 0x419ae630>"
      ]
     },
     "execution_count": 5,
     "metadata": {},
     "output_type": "execute_result"
    },
    {
     "data": {
      "image/png": "[encoded data removed]",
      "text/plain": [
       "<matplotlib.figure.Figure at 0x4152f400>"
      ]
     },
     "metadata": {},
     "output_type": "display_data"
    }
   ],
   "source": [
    "importance = pd.DataFrame({'variable':independent, 'importance':model.feature_importances_})\n",
    "importance.sort_values(by='importance', ascending=False, inplace=True)\n",
    "top_importance = importance.head(20)\n",
    "\n",
    "sns.barplot(y='variable', x='importance', color=\"midnightblue\", data=top_importance)"
   ]
  },
  {
   "cell_type": "code",
   "execution_count": 6,
   "metadata": {},
   "outputs": [
    {
     "name": "stdout",
     "output_type": "stream",
     "text": [
      "Written to file Submissions/submission_2017-04-06_1457.csv\n",
      "   listing_id     high  medium      low\n",
      "0     7142618  0.03300  0.4650  0.50200\n",
      "1     7210040  0.08350  0.1145  0.80200\n",
      "2     7174566  0.01500  0.1030  0.88200\n",
      "3     7191391  0.23425  0.4015  0.36425\n",
      "4     7171695  0.03400  0.1690  0.79700\n"
     ]
    }
   ],
   "source": [
    "rental_utils.prepare_submission(model, test, independent)"
   ]
  }
 ],
 "metadata": {
  "kernelspec": {
   "display_name": "Python 2",
   "language": "python",
   "name": "python2"
  },
  "language_info": {
   "codemirror_mode": {
    "name": "ipython",
    "version": 2
   },
   "file_extension": ".py",
   "mimetype": "text/x-python",
   "name": "python",
   "nbconvert_exporter": "python",
   "pygments_lexer": "ipython2",
   "version": "2.7.13"
  }
 },
 "nbformat": 4,
 "nbformat_minor": 2
}
