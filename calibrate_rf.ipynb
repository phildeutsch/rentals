{
 "cells": [
  {
   "cell_type": "code",
   "execution_count": 1,
   "metadata": {
    "collapsed": false,
    "deletable": true,
    "editable": true
   },
   "outputs": [],
   "source": [
    "import pickle\n",
    "\n",
    "import pandas as pd\n",
    "import numpy as np\n",
    "import seaborn as sns\n",
    "import matplotlib.pyplot as plt\n",
    "\n",
    "from sklearn.ensemble import RandomForestClassifier\n",
    "from sklearn.metrics import log_loss\n",
    "\n",
    "import rental_utils; reload(rental_utils)\n",
    "\n",
    "%matplotlib inline\n",
    "sns.set(style=\"whitegrid\")"
   ]
  },
  {
   "cell_type": "code",
   "execution_count": 2,
   "metadata": {
    "collapsed": false,
    "deletable": true,
    "editable": true
   },
   "outputs": [
    {
     "name": "stdout",
     "output_type": "stream",
     "text": [
      "Loading raw data\n",
      "Adding features\n",
      "Adding regions\n",
      "Adding variables\n",
      "Dummyfying\n",
      "Splitting data\n"
     ]
    }
   ],
   "source": [
    "data, independent, test = rental_utils.load_data()\n",
    "[X_train, X_val, y_train, y_val] = data"
   ]
  },
  {
   "cell_type": "code",
   "execution_count": 3,
   "metadata": {
    "collapsed": false,
    "deletable": true,
    "editable": true
   },
   "outputs": [
    {
     "data": {
      "text/plain": [
       "RandomForestClassifier(bootstrap=True, class_weight=None, criterion='entropy',\n",
       "            max_depth=87, max_features=0.33, max_leaf_nodes=None,\n",
       "            min_impurity_split=1e-07, min_samples_leaf=2,\n",
       "            min_samples_split=9, min_weight_fraction_leaf=0.0,\n",
       "            n_estimators=51, n_jobs=1, oob_score=False, random_state=None,\n",
       "            verbose=0, warm_start=False)"
      ]
     },
     "execution_count": 3,
     "metadata": {},
     "output_type": "execute_result"
    }
   ],
   "source": [
    "model = RandomForestClassifier(bootstrap=True, min_samples_leaf=2, n_estimators=51, \n",
    "                                   min_samples_split=9, criterion='entropy', max_features=0.33,\n",
    "                                   max_depth=87)\n",
    "model.fit(X_train, y_train)"
   ]
  },
  {
   "cell_type": "code",
   "execution_count": 4,
   "metadata": {
    "collapsed": false,
    "deletable": true,
    "editable": true
   },
   "outputs": [
    {
     "name": "stdout",
     "output_type": "stream",
     "text": [
      "col_0   high    low  medium\n",
      "row_0                      \n",
      "high     337     60     193\n",
      "low      392  10510    2179\n",
      "medium   521    822    1273\n",
      "\n",
      "col_0       high       low    medium\n",
      "row_0                               \n",
      "high    0.571186  0.101695  0.327119\n",
      "low     0.029967  0.803455  0.166577\n",
      "medium  0.199159  0.314220  0.486621\n",
      "\n",
      "Validation Accuracy: 74.4\n",
      "Log loss:            0.589\n",
      "\n",
      "High Accuracy: 57.1\n",
      "Medium Accuracy: 48.7\n",
      "Low Accuracy: 80.3\n"
     ]
    }
   ],
   "source": [
    "preds_train, probs_train = rental_utils.predict(model, X_train)\n",
    "preds_val, probs_val = rental_utils.predict(model, X_val)\n",
    "\n",
    "ct = pd.crosstab(preds_val, y_val.values, margins=False)\n",
    "print(ct)\n",
    "\n",
    "print('')\n",
    "ct_perc = ct.apply(lambda x: x/sum(x), axis=1)\n",
    "print(ct_perc)\n",
    "\n",
    "print('')\n",
    "accuracy_val = float(np.sum(preds_val==y_val))/len(preds_val)\n",
    "print('Validation Accuracy: ' + str(round(100*accuracy_val, 1)))\n",
    "print('Log loss:            ' + str(round(log_loss(y_val, probs_val), 3)))\n",
    "\n",
    "print('')\n",
    "high_accuracy = ct_perc.iloc[0,0]\n",
    "print('High Accuracy: ' + str(round(100*high_accuracy, 1)))\n",
    "med_accuracy = ct_perc.iloc[2,2]\n",
    "print('Medium Accuracy: ' + str(round(100*med_accuracy, 1)))\n",
    "low_accuracy = ct_perc.iloc[1,1]\n",
    "print('Low Accuracy: ' + str(round(100*low_accuracy, 1)))"
   ]
  },
  {
   "cell_type": "code",
   "execution_count": 5,
   "metadata": {
    "collapsed": false,
    "deletable": true,
    "editable": true
   },
   "outputs": [
    {
     "data": {
      "text/plain": [
       "<matplotlib.axes._subplots.AxesSubplot at 0x3f230ef0>"
      ]
     },
     "execution_count": 5,
     "metadata": {},
     "output_type": "execute_result"
    },
    {
     "data": {
      "image/png": "[encoded data removed]",
      "text/plain": [
       "<matplotlib.figure.Figure at 0x3f2308d0>"
      ]
     },
     "metadata": {},
     "output_type": "display_data"
    }
   ],
   "source": [
    "importance = pd.DataFrame({'variable':independent, 'importance':model.feature_importances_})\n",
    "importance.sort_values(by='importance', ascending=False, inplace=True)\n",
    "top_importance = importance.head(20)\n",
    "\n",
    "sns.barplot(y='variable', x='importance', color=\"midnightblue\", data=top_importance)"
   ]
  },
  {
   "cell_type": "code",
   "execution_count": 9,
   "metadata": {
    "collapsed": false
   },
   "outputs": [],
   "source": [
    "X = pd.concat([X_train, X_val])\n",
    "y = pd.concat([y_train, y_val])\n",
    "\n",
    "model.fit(X, y)\n",
    "pickle.dump(model, open(\"Models/manual_rf.pkl\", \"wb\"))\n",
    "rental_utils.prepare_submission(model, test, independent)"
   ]
  }
 ],
 "metadata": {
  "kernelspec": {
   "display_name": "Python 2",
   "language": "python",
   "name": "python2"
  },
  "language_info": {
   "codemirror_mode": {
    "name": "ipython",
    "version": 2
   },
   "file_extension": ".py",
   "mimetype": "text/x-python",
   "name": "python",
   "nbconvert_exporter": "python",
   "pygments_lexer": "ipython2",
   "version": "2.7.13"
  }
 },
 "nbformat": 4,
 "nbformat_minor": 2
}
