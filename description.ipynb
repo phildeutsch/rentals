{
 "cells": [
  {
   "cell_type": "code",
   "execution_count": 4,
   "metadata": {
    "collapsed": false,
    "deletable": true,
    "editable": true
   },
   "outputs": [
    {
     "name": "stdout",
     "output_type": "stream",
     "text": [
      "[nltk_data] Downloading package stopwords to\n",
      "[nltk_data]     C:\\Users\\Philipp.Deutsch\\AppData\\Roaming\\nltk_data...\n",
      "[nltk_data]   Package stopwords is already up-to-date!\n"
     ]
    }
   ],
   "source": [
    "import pickle\n",
    "\n",
    "import pandas as pd\n",
    "import numpy as np\n",
    "import seaborn as sns\n",
    "import matplotlib.pyplot as plt\n",
    "\n",
    "from sklearn.ensemble import RandomForestClassifier\n",
    "from sklearn.metrics import log_loss\n",
    "from sklearn.model_selection import train_test_split\n",
    "\n",
    "import rental_utils; reload(rental_utils)\n",
    "\n",
    "%matplotlib inline\n",
    "sns.set(style=\"whitegrid\")"
   ]
  },
  {
   "cell_type": "code",
   "execution_count": 2,
   "metadata": {
    "collapsed": false,
    "deletable": true,
    "editable": true
   },
   "outputs": [],
   "source": [
    "train_raw = rental_utils.clean(pd.read_json('Data/train.json'))\n",
    "test_raw = rental_utils.clean(pd.read_json('Data/test.json'))"
   ]
  },
  {
   "cell_type": "code",
   "execution_count": 20,
   "metadata": {
    "collapsed": false
   },
   "outputs": [],
   "source": [
    "data = train_test_split(train_raw[['description', 'listing_id']], train_raw['interest_level'], test_size=0.33, random_state=1)\n",
    "[X_train, X_val, y_train, y_val] = data"
   ]
  },
  {
   "cell_type": "code",
   "execution_count": 9,
   "metadata": {
    "collapsed": false,
    "deletable": true,
    "editable": true
   },
   "outputs": [
    {
     "name": "stderr",
     "output_type": "stream",
     "text": [
      " 93% (30973 of 33065) |##################  | Elapsed Time: 0:01:10 ETA: 0:00:04C:\\Users\\Philipp.Deutsch\\AppData\\Local\\Continuum\\Anaconda2\\envs\\ds\\lib\\site-packages\\bs4\\__init__.py:219: UserWarning: \".\" looks like a filename, not markup. You shouldprobably open this file and pass the filehandle intoBeautiful Soup.\n",
      "  'Beautiful Soup.' % markup)\n",
      " 99% (33057 of 33065) |################### | Elapsed Time: 0:01:15 ETA: 0:00:00\n"
     ]
    }
   ],
   "source": [
    "train_descriptions = rental_utils.convert_to_words(X_train)"
   ]
  },
  {
   "cell_type": "code",
   "execution_count": 10,
   "metadata": {
    "collapsed": false
   },
   "outputs": [
    {
     "name": "stderr",
     "output_type": "stream",
     "text": [
      "100% (16287 of 16287) |###################| Elapsed Time: 0:00:35 Time: 0:00:35\n"
     ]
    }
   ],
   "source": [
    "val_descriptions = rental_utils.convert_to_words(X_val)"
   ]
  },
  {
   "cell_type": "code",
   "execution_count": 11,
   "metadata": {
    "collapsed": false,
    "deletable": true,
    "editable": true
   },
   "outputs": [
    {
     "name": "stderr",
     "output_type": "stream",
     "text": [
      "100% (74659 of 74659) |###################| Elapsed Time: 0:02:53 Time: 0:02:53\n"
     ]
    }
   ],
   "source": [
    "test_descriptions = rental_utils.convert_to_words(test_raw)"
   ]
  },
  {
   "cell_type": "code",
   "execution_count": 13,
   "metadata": {
    "collapsed": false,
    "deletable": true,
    "editable": true
   },
   "outputs": [],
   "source": [
    "from sklearn.feature_extraction.text import CountVectorizer\n",
    "\n",
    "vectorizer = CountVectorizer(analyzer=\"word\",\n",
    "                                 tokenizer=None,\n",
    "                                 preprocessor=None,\n",
    "                                 stop_words=None,\n",
    "                                 max_features=1000)\n",
    "train_data_features = vectorizer.fit_transform(train_descriptions).toarray()\n",
    "val_data_features = vectorizer.transform(val_descriptions).toarray()"
   ]
  },
  {
   "cell_type": "code",
   "execution_count": 27,
   "metadata": {
    "collapsed": false,
    "deletable": true,
    "editable": true
   },
   "outputs": [
    {
     "name": "stdout",
     "output_type": "stream",
     "text": [
      "interest_level  high    low  medium\n",
      "row_0                              \n",
      "high             161     96     187\n",
      "low              856  10558    2877\n",
      "medium           237    616     699\n"
     ]
    }
   ],
   "source": [
    "from sklearn.ensemble import RandomForestClassifier\n",
    "forest = RandomForestClassifier(n_estimators = 100) \n",
    "forest = forest.fit(train_data_features, y_train)\n",
    "\n",
    "pred_val = forest.predict(val_data_features)\n",
    "ct = pd.crosstab(pred_val, y_val, margins=False)\n",
    "print(ct)"
   ]
  },
  {
   "cell_type": "code",
   "execution_count": 16,
   "metadata": {
    "collapsed": true
   },
   "outputs": [],
   "source": [
    "test_data_features = vectorizer.transform(test_descriptions).toarray()\n",
    "pred_train = forest.predict(train_data_features)\n",
    "pred_test = forest.predict(test_data_features)"
   ]
  },
  {
   "cell_type": "code",
   "execution_count": 28,
   "metadata": {
    "collapsed": false,
    "deletable": true,
    "editable": true
   },
   "outputs": [
    {
     "name": "stdout",
     "output_type": "stream",
     "text": [
      "(49352, 2)\n",
      "(74659, 2)\n"
     ]
    }
   ],
   "source": [
    "df_train = pd.DataFrame({'listing_id':X_train['listing_id'], 'desc_pred':pred_train})\n",
    "df_val = pd.DataFrame({'listing_id':X_val['listing_id'], 'desc_pred':pred_val})\n",
    "\n",
    "df_train = pd.concat([df_train, df_val])\n",
    "df_test = pd.DataFrame({'listing_id':test_raw['listing_id'], 'desc_pred':pred_test})\n",
    "\n",
    "print(df_train.shape)\n",
    "print(df_test.shape)"
   ]
  },
  {
   "cell_type": "code",
   "execution_count": 29,
   "metadata": {
    "collapsed": false,
    "deletable": true,
    "editable": true
   },
   "outputs": [],
   "source": [
    "df_train.to_csv('Data/description_prediction_train.csv', index=False)\n",
    "df_test.to_csv('Data/description_prediction_test.csv', index=False)"
   ]
  }
 ],
 "metadata": {
  "kernelspec": {
   "display_name": "Python 2",
   "language": "python",
   "name": "python2"
  },
  "language_info": {
   "codemirror_mode": {
    "name": "ipython",
    "version": 2
   },
   "file_extension": ".py",
   "mimetype": "text/x-python",
   "name": "python",
   "nbconvert_exporter": "python",
   "pygments_lexer": "ipython2",
   "version": "2.7.13"
  }
 },
 "nbformat": 4,
 "nbformat_minor": 2
}
