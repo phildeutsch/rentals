{
 "cells": [
  {
   "cell_type": "code",
   "execution_count": 17,
   "metadata": {},
   "outputs": [
    {
     "name": "stdout",
     "output_type": "stream",
     "text": [
      "[nltk_data] Downloading package stopwords to\n",
      "[nltk_data]     C:\\Users\\philipp.deutsch\\AppData\\Roaming\\nltk_data...\n",
      "[nltk_data]   Package stopwords is already up-to-date!\n"
     ]
    }
   ],
   "source": [
    "import pickle\n",
    "\n",
    "import datetime\n",
    "import pandas as pd\n",
    "import numpy as np\n",
    "import seaborn as sns\n",
    "import matplotlib.pyplot as plt\n",
    "\n",
    "from sklearn.ensemble import RandomForestClassifier\n",
    "from sklearn.metrics import log_loss\n",
    "from sklearn.model_selection import train_test_split\n",
    "\n",
    "import rental_utils; reload(rental_utils)\n",
    "\n",
    "%matplotlib inline\n",
    "sns.set(style=\"whitegrid\")"
   ]
  },
  {
   "cell_type": "code",
   "execution_count": 3,
   "metadata": {},
   "outputs": [],
   "source": [
    "train_raw = rental_utils.clean(pd.read_json('Data/train.json'))\n",
    "test_raw = rental_utils.clean(pd.read_json('Data/test.json'))"
   ]
  },
  {
   "cell_type": "code",
   "execution_count": 4,
   "metadata": {},
   "outputs": [],
   "source": [
    "data = train_test_split(train_raw[['description', 'listing_id']], train_raw['interest_level'], test_size=0.33, random_state=1)\n",
    "[X_train, X_val, y_train, y_val] = data"
   ]
  },
  {
   "cell_type": "code",
   "execution_count": 5,
   "metadata": {},
   "outputs": [
    {
     "name": "stderr",
     "output_type": "stream",
     "text": [
      " 93% (30998 of 33065) |###################################################    | Elapsed Time: 0:01:30 ETA: 0:00:05D:\\Analytics\\Anaconda 2.1.0\\envs\\ds\\lib\\site-packages\\bs4\\__init__.py:219: UserWarning: \".\" looks like a filename, not markup. You shouldprobably open this file and pass the filehandle intoBeautiful Soup.\n",
      "  'Beautiful Soup.' % markup)\n",
      "100% (33065 of 33065) |######################################################| Elapsed Time: 0:01:36 Time: 0:01:36\n"
     ]
    }
   ],
   "source": [
    "train_descriptions = rental_utils.convert_to_words(X_train)"
   ]
  },
  {
   "cell_type": "code",
   "execution_count": 6,
   "metadata": {},
   "outputs": [
    {
     "name": "stderr",
     "output_type": "stream",
     "text": [
      "100% (16287 of 16287) |######################################################| Elapsed Time: 0:00:49 Time: 0:00:49\n"
     ]
    }
   ],
   "source": [
    "val_descriptions = rental_utils.convert_to_words(X_val)"
   ]
  },
  {
   "cell_type": "code",
   "execution_count": 7,
   "metadata": {},
   "outputs": [
    {
     "name": "stderr",
     "output_type": "stream",
     "text": [
      " 99% (74646 of 74659) |###################################################### | Elapsed Time: 0:03:42 ETA: 0:00:00\n"
     ]
    }
   ],
   "source": [
    "test_descriptions = rental_utils.convert_to_words(test_raw)"
   ]
  },
  {
   "cell_type": "code",
   "execution_count": 8,
   "metadata": {},
   "outputs": [],
   "source": [
    "from sklearn.feature_extraction.text import CountVectorizer\n",
    "\n",
    "vectorizer = CountVectorizer(analyzer=\"word\",\n",
    "                                 tokenizer=None,\n",
    "                                 preprocessor=None,\n",
    "                                 stop_words=None,\n",
    "                                 max_features=1000)\n",
    "train_data_features = vectorizer.fit_transform(train_descriptions).toarray()\n",
    "val_data_features = vectorizer.transform(val_descriptions).toarray()"
   ]
  },
  {
   "cell_type": "code",
   "execution_count": 19,
   "metadata": {},
   "outputs": [
    {
     "name": "stdout",
     "output_type": "stream",
     "text": [
      "interest_level  high    low  medium\n",
      "row_0                              \n",
      "high             162     94     189\n",
      "low              866  10579    2894\n",
      "medium           226    597     680\n"
     ]
    }
   ],
   "source": [
    "from sklearn.ensemble import RandomForestClassifier\n",
    "forest = RandomForestClassifier(n_estimators = 1000) \n",
    "forest = forest.fit(train_data_features, y_train)\n",
    "\n",
    "pred_val = forest.predict(val_data_features)\n",
    "ct = pd.crosstab(pred_val, y_val, margins=False)\n",
    "print(ct)"
   ]
  },
  {
   "cell_type": "code",
   "execution_count": 20,
   "metadata": {},
   "outputs": [
    {
     "data": {
      "text/html": [
       "<div>\n",
       "<table border=\"1\" class=\"dataframe\">\n",
       "  <thead>\n",
       "    <tr style=\"text-align: right;\">\n",
       "      <th></th>\n",
       "      <th>high</th>\n",
       "      <th>low</th>\n",
       "      <th>medium</th>\n",
       "    </tr>\n",
       "  </thead>\n",
       "  <tbody>\n",
       "    <tr>\n",
       "      <th>0</th>\n",
       "      <td>0.055372</td>\n",
       "      <td>0.525526</td>\n",
       "      <td>0.419102</td>\n",
       "    </tr>\n",
       "    <tr>\n",
       "      <th>1</th>\n",
       "      <td>0.050167</td>\n",
       "      <td>0.788262</td>\n",
       "      <td>0.161571</td>\n",
       "    </tr>\n",
       "    <tr>\n",
       "      <th>2</th>\n",
       "      <td>0.050417</td>\n",
       "      <td>0.335458</td>\n",
       "      <td>0.614125</td>\n",
       "    </tr>\n",
       "    <tr>\n",
       "      <th>3</th>\n",
       "      <td>0.107242</td>\n",
       "      <td>0.528608</td>\n",
       "      <td>0.364150</td>\n",
       "    </tr>\n",
       "    <tr>\n",
       "      <th>4</th>\n",
       "      <td>0.004750</td>\n",
       "      <td>0.938167</td>\n",
       "      <td>0.057083</td>\n",
       "    </tr>\n",
       "  </tbody>\n",
       "</table>\n",
       "</div>"
      ],
      "text/plain": [
       "       high       low    medium\n",
       "0  0.055372  0.525526  0.419102\n",
       "1  0.050167  0.788262  0.161571\n",
       "2  0.050417  0.335458  0.614125\n",
       "3  0.107242  0.528608  0.364150\n",
       "4  0.004750  0.938167  0.057083"
      ]
     },
     "execution_count": 20,
     "metadata": {},
     "output_type": "execute_result"
    }
   ],
   "source": [
    "test_data_features = vectorizer.transform(test_descriptions).toarray()\n",
    "\n",
    "probs = forest.predict_proba(test_data_features)\n",
    "probs = pd.DataFrame(probs, columns=forest.classes_)\n",
    "probs.head()"
   ]
  },
  {
   "cell_type": "code",
   "execution_count": 21,
   "metadata": {},
   "outputs": [],
   "source": [
    "submission = test_raw[['listing_id']]\n",
    "submission = pd.concat([submission.reset_index(drop=True),\n",
    "                        pd.DataFrame(probs, columns=forest.classes_)],\n",
    "                       axis=1)\n",
    "submission = submission[['listing_id', 'high', 'medium', 'low']]\n",
    "timestamp = str(datetime.datetime.now())[:16]\n",
    "submission_name = 'Submissions/submission_desc_ ' + timestamp + '.csv'\n",
    "submission_name = submission_name.replace(' ', '_').replace(':', '')\n",
    "submission.to_csv(submission_name, index=False)"
   ]
  }
 ],
 "metadata": {
  "kernelspec": {
   "display_name": "Python 2",
   "language": "python",
   "name": "python2"
  },
  "language_info": {
   "codemirror_mode": {
    "name": "ipython",
    "version": 2
   },
   "file_extension": ".py",
   "mimetype": "text/x-python",
   "name": "python",
   "nbconvert_exporter": "python",
   "pygments_lexer": "ipython2",
   "version": "2.7.13"
  }
 },
 "nbformat": 4,
 "nbformat_minor": 2
}
